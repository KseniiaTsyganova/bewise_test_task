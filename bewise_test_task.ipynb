{
  "cells": [
    {
      "cell_type": "markdown",
      "metadata": {
        "id": "view-in-github",
        "colab_type": "text"
      },
      "source": [
        "<a href=\"https://colab.research.google.com/github/KseniiaTsyganova/bewise_test_task/blob/main/bewise_test_task.ipynb\" target=\"_parent\"><img src=\"https://colab.research.google.com/assets/colab-badge.svg\" alt=\"Open In Colab\"/></a>"
      ]
    },
    {
      "cell_type": "markdown",
      "metadata": {
        "id": "0b1zbHSsfL0D"
      },
      "source": [
        "# Тестовое задание bewise.ai\n",
        "\n",
        "Позиция \"Junior Data Scientist (NLP)\"."
      ]
    },
    {
      "cell_type": "markdown",
      "metadata": {
        "id": "xnh6KI_FfL0F"
      },
      "source": [
        "Главные задачи, которые должен выполнять скрипт:\n",
        "\n",
        "a. Извлекать реплики с приветствием – где менеджер поздоровался.\n",
        "\n",
        "b. Извлекать реплики, где менеджер представил себя.\n",
        "\n",
        "c. Извлекать имя менеджера.\n",
        "\n",
        "d. Извлекать название компании.\n",
        "\n",
        "e. Извлекать реплики, где менеджер попрощался.\n",
        "\n",
        "f. Проверять требование к менеджеру: «В каждом диалоге обязательно необходимо поздороваться и попрощаться с клиентом"
      ]
    },
    {
      "cell_type": "markdown",
      "metadata": {
        "id": "62H39ooqfL0F"
      },
      "source": [
        "# Часть 1"
      ]
    },
    {
      "cell_type": "markdown",
      "metadata": {
        "id": "QRGzyABhfL0G"
      },
      "source": [
        "Начнем с импорта необходимых библиотек"
      ]
    },
    {
      "cell_type": "code",
      "execution_count": null,
      "metadata": {
        "id": "V25SXte6fL0G"
      },
      "outputs": [],
      "source": [
        "import pandas as pd\n",
        "import matplotlib.pyplot as plt\n",
        "import re # библиотека для работы с регулярными выражениями\n",
        "import time \n",
        "import pymorphy2 #библиотека для лемматизации\n",
        "import numpy as np\n",
        "\n",
        "from wordcloud import WordCloud #модуль для создания облака слов\n",
        "import nltk\n",
        "from nltk.corpus import stopwords as nltk_stopwords\n",
        "\n",
        "from sklearn.feature_extraction.text import TfidfVectorizer\n",
        "from sklearn.model_selection import train_test_split\n",
        "\n",
        "from sklearn.linear_model import LogisticRegression\n",
        "from sklearn.svm import SVC\n",
        "\n",
        "from sklearn.utils import shuffle\n",
        "from sklearn.model_selection import GridSearchCV\n",
        "from sklearn.pipeline import Pipeline\n",
        "\n",
        "from sklearn.metrics import f1_score\n",
        "\n",
        "import tensorflow as tf\n",
        "\n",
        "import warnings \n",
        "warnings.filterwarnings('ignore')"
      ]
    },
    {
      "cell_type": "markdown",
      "metadata": {
        "id": "y5-ZV1l1fL0H"
      },
      "source": [
        "Загрузим данные"
      ]
    },
    {
      "cell_type": "code",
      "execution_count": null,
      "metadata": {
        "id": "VUELVHLjfL0H"
      },
      "outputs": [],
      "source": [
        "df = pd.read_csv('test_data.csv')"
      ]
    },
    {
      "cell_type": "code",
      "execution_count": null,
      "metadata": {
        "id": "pk8P89h8fL0I",
        "outputId": "3c57150c-2ebe-465b-c33f-d5b16e5da909"
      },
      "outputs": [
        {
          "data": {
            "text/html": [
              "<div>\n",
              "<style scoped>\n",
              "    .dataframe tbody tr th:only-of-type {\n",
              "        vertical-align: middle;\n",
              "    }\n",
              "\n",
              "    .dataframe tbody tr th {\n",
              "        vertical-align: top;\n",
              "    }\n",
              "\n",
              "    .dataframe thead th {\n",
              "        text-align: right;\n",
              "    }\n",
              "</style>\n",
              "<table border=\"1\" class=\"dataframe\">\n",
              "  <thead>\n",
              "    <tr style=\"text-align: right;\">\n",
              "      <th></th>\n",
              "      <th>dlg_id</th>\n",
              "      <th>line_n</th>\n",
              "      <th>role</th>\n",
              "      <th>text</th>\n",
              "    </tr>\n",
              "  </thead>\n",
              "  <tbody>\n",
              "    <tr>\n",
              "      <th>0</th>\n",
              "      <td>0</td>\n",
              "      <td>0</td>\n",
              "      <td>client</td>\n",
              "      <td>Алло</td>\n",
              "    </tr>\n",
              "    <tr>\n",
              "      <th>1</th>\n",
              "      <td>0</td>\n",
              "      <td>1</td>\n",
              "      <td>manager</td>\n",
              "      <td>Алло здравствуйте</td>\n",
              "    </tr>\n",
              "    <tr>\n",
              "      <th>2</th>\n",
              "      <td>0</td>\n",
              "      <td>2</td>\n",
              "      <td>client</td>\n",
              "      <td>Добрый день</td>\n",
              "    </tr>\n",
              "    <tr>\n",
              "      <th>3</th>\n",
              "      <td>0</td>\n",
              "      <td>3</td>\n",
              "      <td>manager</td>\n",
              "      <td>Меня зовут ангелина компания диджитал бизнес з...</td>\n",
              "    </tr>\n",
              "    <tr>\n",
              "      <th>4</th>\n",
              "      <td>0</td>\n",
              "      <td>4</td>\n",
              "      <td>client</td>\n",
              "      <td>Ага</td>\n",
              "    </tr>\n",
              "  </tbody>\n",
              "</table>\n",
              "</div>"
            ],
            "text/plain": [
              "   dlg_id  line_n     role                                               text\n",
              "0       0       0   client                                               Алло\n",
              "1       0       1  manager                                  Алло здравствуйте\n",
              "2       0       2   client                                        Добрый день\n",
              "3       0       3  manager  Меня зовут ангелина компания диджитал бизнес з...\n",
              "4       0       4   client                                                Ага"
            ]
          },
          "execution_count": 3,
          "metadata": {},
          "output_type": "execute_result"
        }
      ],
      "source": [
        "df.head()"
      ]
    },
    {
      "cell_type": "code",
      "execution_count": null,
      "metadata": {
        "id": "4TyoWeAxfL0J"
      },
      "outputs": [],
      "source": [
        "#Создаем копию исходного датафрейма для дальнейших манипуляций\n",
        "\n",
        "data = df.copy()"
      ]
    },
    {
      "cell_type": "code",
      "execution_count": null,
      "metadata": {
        "id": "9Ocfz93GfL0J",
        "outputId": "964f2a2b-f80d-4a4e-c375-3425a69a75a3"
      },
      "outputs": [
        {
          "name": "stdout",
          "output_type": "stream",
          "text": [
            "<class 'pandas.core.frame.DataFrame'>\n",
            "RangeIndex: 480 entries, 0 to 479\n",
            "Data columns (total 4 columns):\n",
            " #   Column  Non-Null Count  Dtype \n",
            "---  ------  --------------  ----- \n",
            " 0   dlg_id  480 non-null    int64 \n",
            " 1   line_n  480 non-null    int64 \n",
            " 2   role    480 non-null    object\n",
            " 3   text    480 non-null    object\n",
            "dtypes: int64(2), object(2)\n",
            "memory usage: 15.1+ KB\n"
          ]
        }
      ],
      "source": [
        "# Посмотрим информацию о датафрейме\n",
        "\n",
        "data.info()"
      ]
    },
    {
      "cell_type": "markdown",
      "metadata": {
        "id": "FG4IQc23fL0K"
      },
      "source": [
        "Проверим данные на пропуски."
      ]
    },
    {
      "cell_type": "code",
      "execution_count": null,
      "metadata": {
        "id": "_-cOB2KnfL0K",
        "outputId": "7c29d0d2-8737-4434-a0d8-f7b7e6b4a9b9"
      },
      "outputs": [
        {
          "data": {
            "text/plain": [
              "dlg_id    0\n",
              "line_n    0\n",
              "role      0\n",
              "text      0\n",
              "dtype: int64"
            ]
          },
          "execution_count": 6,
          "metadata": {},
          "output_type": "execute_result"
        }
      ],
      "source": [
        "data.isna().sum()"
      ]
    },
    {
      "cell_type": "markdown",
      "metadata": {
        "id": "qaFN8b5cfL0K"
      },
      "source": [
        "Проверим на наличие дубликатов в данных."
      ]
    },
    {
      "cell_type": "code",
      "execution_count": null,
      "metadata": {
        "id": "AxeQ1NlBfL0K",
        "outputId": "d0977ce7-3367-49ca-cca0-b79a159ca50e"
      },
      "outputs": [
        {
          "data": {
            "text/plain": [
              "0"
            ]
          },
          "execution_count": 7,
          "metadata": {},
          "output_type": "execute_result"
        }
      ],
      "source": [
        "data.duplicated().sum()"
      ]
    },
    {
      "cell_type": "markdown",
      "metadata": {
        "id": "O5Xp7sCafL0L"
      },
      "source": [
        "Визуализируем количество реплик в каждом диалоге."
      ]
    },
    {
      "cell_type": "code",
      "execution_count": null,
      "metadata": {
        "id": "UlU4Av97fL0L",
        "outputId": "2321c683-1252-426e-f177-d8231ba05f5f"
      },
      "outputs": [
        {
          "data": {
            "image/png": "[encoded data removed]",
            "text/plain": [
              "<Figure size 432x288 with 1 Axes>"
            ]
          },
          "metadata": {
            "needs_background": "light"
          },
          "output_type": "display_data"
        }
      ],
      "source": [
        "data.groupby('dlg_id')['line_n'].count().plot(kind='bar', title='Количество реплик в диалогах', color='moccasin')\n",
        "plt.grid()\n",
        "plt.show()"
      ]
    },
    {
      "cell_type": "markdown",
      "metadata": {
        "id": "njpvZfTgfL0L"
      },
      "source": [
        "Убедимся, что реплики располагаются по порядку."
      ]
    },
    {
      "cell_type": "code",
      "execution_count": null,
      "metadata": {
        "id": "H0DCjYIYfL0L",
        "outputId": "e2379b9c-a1c8-4f8e-cbfc-386a4da3f50f"
      },
      "outputs": [
        {
          "data": {
            "text/html": [
              "<div>\n",
              "<style scoped>\n",
              "    .dataframe tbody tr th:only-of-type {\n",
              "        vertical-align: middle;\n",
              "    }\n",
              "\n",
              "    .dataframe tbody tr th {\n",
              "        vertical-align: top;\n",
              "    }\n",
              "\n",
              "    .dataframe thead th {\n",
              "        text-align: right;\n",
              "    }\n",
              "</style>\n",
              "<table border=\"1\" class=\"dataframe\">\n",
              "  <thead>\n",
              "    <tr style=\"text-align: right;\">\n",
              "      <th></th>\n",
              "      <th>dlg_id</th>\n",
              "      <th>line_n</th>\n",
              "      <th>role</th>\n",
              "      <th>text</th>\n",
              "    </tr>\n",
              "  </thead>\n",
              "  <tbody>\n",
              "    <tr>\n",
              "      <th>0</th>\n",
              "      <td>0</td>\n",
              "      <td>0</td>\n",
              "      <td>client</td>\n",
              "      <td>Алло</td>\n",
              "    </tr>\n",
              "    <tr>\n",
              "      <th>1</th>\n",
              "      <td>0</td>\n",
              "      <td>1</td>\n",
              "      <td>manager</td>\n",
              "      <td>Алло здравствуйте</td>\n",
              "    </tr>\n",
              "    <tr>\n",
              "      <th>2</th>\n",
              "      <td>0</td>\n",
              "      <td>2</td>\n",
              "      <td>client</td>\n",
              "      <td>Добрый день</td>\n",
              "    </tr>\n",
              "    <tr>\n",
              "      <th>3</th>\n",
              "      <td>0</td>\n",
              "      <td>3</td>\n",
              "      <td>manager</td>\n",
              "      <td>Меня зовут ангелина компания диджитал бизнес з...</td>\n",
              "    </tr>\n",
              "    <tr>\n",
              "      <th>4</th>\n",
              "      <td>0</td>\n",
              "      <td>4</td>\n",
              "      <td>client</td>\n",
              "      <td>Ага</td>\n",
              "    </tr>\n",
              "    <tr>\n",
              "      <th>5</th>\n",
              "      <td>0</td>\n",
              "      <td>5</td>\n",
              "      <td>manager</td>\n",
              "      <td>Угу ну возможно вы рассмотрите и другие вариан...</td>\n",
              "    </tr>\n",
              "    <tr>\n",
              "      <th>6</th>\n",
              "      <td>0</td>\n",
              "      <td>6</td>\n",
              "      <td>client</td>\n",
              "      <td>Да мы работаем с компанией которая нам подлива...</td>\n",
              "    </tr>\n",
              "    <tr>\n",
              "      <th>7</th>\n",
              "      <td>0</td>\n",
              "      <td>7</td>\n",
              "      <td>client</td>\n",
              "      <td>Как как бы уже до этого момента работаем все у...</td>\n",
              "    </tr>\n",
              "    <tr>\n",
              "      <th>8</th>\n",
              "      <td>0</td>\n",
              "      <td>8</td>\n",
              "      <td>manager</td>\n",
              "      <td>Угу а на что вы обращаете внимание при выборе</td>\n",
              "    </tr>\n",
              "    <tr>\n",
              "      <th>9</th>\n",
              "      <td>0</td>\n",
              "      <td>9</td>\n",
              "      <td>client</td>\n",
              "      <td>Как бы нет</td>\n",
              "    </tr>\n",
              "    <tr>\n",
              "      <th>10</th>\n",
              "      <td>0</td>\n",
              "      <td>10</td>\n",
              "      <td>client</td>\n",
              "      <td>Да на выбор я уже не обращаю внимание я уже до...</td>\n",
              "    </tr>\n",
              "    <tr>\n",
              "      <th>11</th>\n",
              "      <td>0</td>\n",
              "      <td>11</td>\n",
              "      <td>manager</td>\n",
              "      <td>Что для вас приоритет</td>\n",
              "    </tr>\n",
              "    <tr>\n",
              "      <th>12</th>\n",
              "      <td>0</td>\n",
              "      <td>12</td>\n",
              "      <td>client</td>\n",
              "      <td>Поэтому типа много параметров</td>\n",
              "    </tr>\n",
              "    <tr>\n",
              "      <th>13</th>\n",
              "      <td>0</td>\n",
              "      <td>13</td>\n",
              "      <td>client</td>\n",
              "      <td>Выбор не выбор есть история сотрудничества кот...</td>\n",
              "    </tr>\n",
              "    <tr>\n",
              "      <th>14</th>\n",
              "      <td>0</td>\n",
              "      <td>14</td>\n",
              "      <td>client</td>\n",
              "      <td>А работаем мы там а уже давно а почему звоните...</td>\n",
              "    </tr>\n",
              "    <tr>\n",
              "      <th>15</th>\n",
              "      <td>0</td>\n",
              "      <td>15</td>\n",
              "      <td>manager</td>\n",
              "      <td>Ну у вас срок заканчивается поэтому мы набрали...</td>\n",
              "    </tr>\n",
              "    <tr>\n",
              "      <th>16</th>\n",
              "      <td>0</td>\n",
              "      <td>16</td>\n",
              "      <td>client</td>\n",
              "      <td>Совершенно верно да и вот так вот делает еще 5...</td>\n",
              "    </tr>\n",
              "    <tr>\n",
              "      <th>17</th>\n",
              "      <td>0</td>\n",
              "      <td>17</td>\n",
              "      <td>client</td>\n",
              "      <td>И спрашивают продвигают продлевать</td>\n",
              "    </tr>\n",
              "    <tr>\n",
              "      <th>18</th>\n",
              "      <td>0</td>\n",
              "      <td>18</td>\n",
              "      <td>client</td>\n",
              "      <td>Ну вот я просто каждый раз удивляюсь почему не...</td>\n",
              "    </tr>\n",
              "    <tr>\n",
              "      <th>19</th>\n",
              "      <td>0</td>\n",
              "      <td>19</td>\n",
              "      <td>client</td>\n",
              "      <td>Хирам работает вот если вы хотите меня заполучить</td>\n",
              "    </tr>\n",
              "  </tbody>\n",
              "</table>\n",
              "</div>"
            ],
            "text/plain": [
              "    dlg_id  line_n     role                                               text\n",
              "0        0       0   client                                               Алло\n",
              "1        0       1  manager                                  Алло здравствуйте\n",
              "2        0       2   client                                        Добрый день\n",
              "3        0       3  manager  Меня зовут ангелина компания диджитал бизнес з...\n",
              "4        0       4   client                                                Ага\n",
              "5        0       5  manager  Угу ну возможно вы рассмотрите и другие вариан...\n",
              "6        0       6   client  Да мы работаем с компанией которая нам подлива...\n",
              "7        0       7   client  Как как бы уже до этого момента работаем все у...\n",
              "8        0       8  manager      Угу а на что вы обращаете внимание при выборе\n",
              "9        0       9   client                                         Как бы нет\n",
              "10       0      10   client  Да на выбор я уже не обращаю внимание я уже до...\n",
              "11       0      11  manager                              Что для вас приоритет\n",
              "12       0      12   client                      Поэтому типа много параметров\n",
              "13       0      13   client  Выбор не выбор есть история сотрудничества кот...\n",
              "14       0      14   client  А работаем мы там а уже давно а почему звоните...\n",
              "15       0      15  manager  Ну у вас срок заканчивается поэтому мы набрали...\n",
              "16       0      16   client  Совершенно верно да и вот так вот делает еще 5...\n",
              "17       0      17   client                 И спрашивают продвигают продлевать\n",
              "18       0      18   client  Ну вот я просто каждый раз удивляюсь почему не...\n",
              "19       0      19   client  Хирам работает вот если вы хотите меня заполучить"
            ]
          },
          "execution_count": 9,
          "metadata": {},
          "output_type": "execute_result"
        }
      ],
      "source": [
        "data = data.sort_values(by=['dlg_id', 'line_n'], ascending=[True, True])\n",
        "data.head(20)"
      ]
    },
    {
      "cell_type": "markdown",
      "metadata": {
        "id": "ZuK2BfXHfL0M"
      },
      "source": [
        "Для начала проверим, есть ли сочитания Имя+Фамилия с большой буквы во всех репликах."
      ]
    },
    {
      "cell_type": "code",
      "execution_count": null,
      "metadata": {
        "id": "6dg85d2yfL0M"
      },
      "outputs": [],
      "source": [
        "# регулярка \n",
        "reg_expr = r'[А-Я]{1}[а-я]+\\s+[А-Я]{1}[а-я]\\w+'\n",
        "\n",
        "# компилируем регулярное выражение\n",
        "reg_expr_compiled = re.compile(reg_expr)\n",
        "# применяем выражение к тексту\n",
        "for raw_text in data.text.values:\n",
        "    for g in reg_expr_compiled.findall(raw_text):\n",
        "        print(g)"
      ]
    },
    {
      "cell_type": "markdown",
      "metadata": {
        "id": "L7oFVHjkfL0M"
      },
      "source": [
        "Ничего не нашлось, судя по всему, в тексте имена пишутся с маленькой буквы. Поэтому мы ничего не потеряем, если приведем данные к нижнему регистру."
      ]
    },
    {
      "cell_type": "code",
      "execution_count": null,
      "metadata": {
        "id": "xrptyA2ofL0M"
      },
      "outputs": [],
      "source": [
        "data.text = data.text.apply(lambda x: x.lower())"
      ]
    },
    {
      "cell_type": "code",
      "execution_count": null,
      "metadata": {
        "id": "KwCJ1DPHfL0M",
        "outputId": "093e1674-b810-4dd6-bcae-9c7007232498"
      },
      "outputs": [
        {
          "data": {
            "text/html": [
              "<div>\n",
              "<style scoped>\n",
              "    .dataframe tbody tr th:only-of-type {\n",
              "        vertical-align: middle;\n",
              "    }\n",
              "\n",
              "    .dataframe tbody tr th {\n",
              "        vertical-align: top;\n",
              "    }\n",
              "\n",
              "    .dataframe thead th {\n",
              "        text-align: right;\n",
              "    }\n",
              "</style>\n",
              "<table border=\"1\" class=\"dataframe\">\n",
              "  <thead>\n",
              "    <tr style=\"text-align: right;\">\n",
              "      <th></th>\n",
              "      <th>dlg_id</th>\n",
              "      <th>line_n</th>\n",
              "      <th>role</th>\n",
              "      <th>text</th>\n",
              "    </tr>\n",
              "  </thead>\n",
              "  <tbody>\n",
              "    <tr>\n",
              "      <th>80</th>\n",
              "      <td>0</td>\n",
              "      <td>80</td>\n",
              "      <td>client</td>\n",
              "      <td>алло</td>\n",
              "    </tr>\n",
              "    <tr>\n",
              "      <th>208</th>\n",
              "      <td>2</td>\n",
              "      <td>44</td>\n",
              "      <td>manager</td>\n",
              "      <td>угу</td>\n",
              "    </tr>\n",
              "    <tr>\n",
              "      <th>137</th>\n",
              "      <td>1</td>\n",
              "      <td>28</td>\n",
              "      <td>manager</td>\n",
              "      <td>да вот где раздел как для админа там вам нужно...</td>\n",
              "    </tr>\n",
              "    <tr>\n",
              "      <th>16</th>\n",
              "      <td>0</td>\n",
              "      <td>16</td>\n",
              "      <td>client</td>\n",
              "      <td>совершенно верно да и вот так вот делает еще 5...</td>\n",
              "    </tr>\n",
              "    <tr>\n",
              "      <th>239</th>\n",
              "      <td>2</td>\n",
              "      <td>75</td>\n",
              "      <td>manager</td>\n",
              "      <td>у вас в любое время есть с какого по какого</td>\n",
              "    </tr>\n",
              "    <tr>\n",
              "      <th>451</th>\n",
              "      <td>5</td>\n",
              "      <td>114</td>\n",
              "      <td>manager</td>\n",
              "      <td>сейчас со мной с претензиями закончились ну в ...</td>\n",
              "    </tr>\n",
              "    <tr>\n",
              "      <th>38</th>\n",
              "      <td>0</td>\n",
              "      <td>38</td>\n",
              "      <td>client</td>\n",
              "      <td>не могу сказать я прошу прощения просто я да т...</td>\n",
              "    </tr>\n",
              "    <tr>\n",
              "      <th>307</th>\n",
              "      <td>4</td>\n",
              "      <td>5</td>\n",
              "      <td>client</td>\n",
              "      <td>ну в принципе да</td>\n",
              "    </tr>\n",
              "    <tr>\n",
              "      <th>192</th>\n",
              "      <td>2</td>\n",
              "      <td>28</td>\n",
              "      <td>client</td>\n",
              "      <td>так значит у вас пишет и все</td>\n",
              "    </tr>\n",
              "    <tr>\n",
              "      <th>475</th>\n",
              "      <td>5</td>\n",
              "      <td>138</td>\n",
              "      <td>manager</td>\n",
              "      <td>по поводу виджетов и с ними уже обсудите конкр...</td>\n",
              "    </tr>\n",
              "  </tbody>\n",
              "</table>\n",
              "</div>"
            ],
            "text/plain": [
              "     dlg_id  line_n     role  \\\n",
              "80        0      80   client   \n",
              "208       2      44  manager   \n",
              "137       1      28  manager   \n",
              "16        0      16   client   \n",
              "239       2      75  manager   \n",
              "451       5     114  manager   \n",
              "38        0      38   client   \n",
              "307       4       5   client   \n",
              "192       2      28   client   \n",
              "475       5     138  manager   \n",
              "\n",
              "                                                  text  \n",
              "80                                                алло  \n",
              "208                                                угу  \n",
              "137  да вот где раздел как для админа там вам нужно...  \n",
              "16   совершенно верно да и вот так вот делает еще 5...  \n",
              "239        у вас в любое время есть с какого по какого  \n",
              "451  сейчас со мной с претензиями закончились ну в ...  \n",
              "38   не могу сказать я прошу прощения просто я да т...  \n",
              "307                                   ну в принципе да  \n",
              "192                       так значит у вас пишет и все  \n",
              "475  по поводу виджетов и с ними уже обсудите конкр...  "
            ]
          },
          "execution_count": 12,
          "metadata": {},
          "output_type": "execute_result"
        }
      ],
      "source": [
        "data.sample(10)"
      ]
    },
    {
      "cell_type": "markdown",
      "metadata": {
        "id": "SRYZY1qYfL0N"
      },
      "source": [
        "Так как мы будем анализировать фразы менеджеров, извлечем только их реплики для удобства."
      ]
    },
    {
      "cell_type": "code",
      "execution_count": null,
      "metadata": {
        "id": "1KQTVCmxfL0N"
      },
      "outputs": [],
      "source": [
        "data_manager = data[data.role == 'manager']"
      ]
    },
    {
      "cell_type": "code",
      "execution_count": null,
      "metadata": {
        "id": "_p6UPjuNfL0N",
        "outputId": "0e04514c-6efb-497d-e003-fdafbc7ca709"
      },
      "outputs": [
        {
          "data": {
            "text/html": [
              "<div>\n",
              "<style scoped>\n",
              "    .dataframe tbody tr th:only-of-type {\n",
              "        vertical-align: middle;\n",
              "    }\n",
              "\n",
              "    .dataframe tbody tr th {\n",
              "        vertical-align: top;\n",
              "    }\n",
              "\n",
              "    .dataframe thead th {\n",
              "        text-align: right;\n",
              "    }\n",
              "</style>\n",
              "<table border=\"1\" class=\"dataframe\">\n",
              "  <thead>\n",
              "    <tr style=\"text-align: right;\">\n",
              "      <th></th>\n",
              "      <th>dlg_id</th>\n",
              "      <th>line_n</th>\n",
              "      <th>role</th>\n",
              "      <th>text</th>\n",
              "    </tr>\n",
              "  </thead>\n",
              "  <tbody>\n",
              "    <tr>\n",
              "      <th>170</th>\n",
              "      <td>2</td>\n",
              "      <td>6</td>\n",
              "      <td>manager</td>\n",
              "      <td>удобно вам сейчас говорить что я вам так расск...</td>\n",
              "    </tr>\n",
              "    <tr>\n",
              "      <th>398</th>\n",
              "      <td>5</td>\n",
              "      <td>61</td>\n",
              "      <td>manager</td>\n",
              "      <td>да все верно то есть я вам просто сейчас выста...</td>\n",
              "    </tr>\n",
              "    <tr>\n",
              "      <th>343</th>\n",
              "      <td>5</td>\n",
              "      <td>6</td>\n",
              "      <td>manager</td>\n",
              "      <td>так да да хорошо смотрите давайте по порядку</td>\n",
              "    </tr>\n",
              "    <tr>\n",
              "      <th>448</th>\n",
              "      <td>5</td>\n",
              "      <td>111</td>\n",
              "      <td>manager</td>\n",
              "      <td>то есть это уже будете обсуждать с ним и если ...</td>\n",
              "    </tr>\n",
              "    <tr>\n",
              "      <th>235</th>\n",
              "      <td>2</td>\n",
              "      <td>71</td>\n",
              "      <td>manager</td>\n",
              "      <td>не перепутала оставлю тогда на ватсап хорошо а...</td>\n",
              "    </tr>\n",
              "    <tr>\n",
              "      <th>144</th>\n",
              "      <td>1</td>\n",
              "      <td>35</td>\n",
              "      <td>manager</td>\n",
              "      <td>так в очень странно мне просто указано 8 может...</td>\n",
              "    </tr>\n",
              "    <tr>\n",
              "      <th>218</th>\n",
              "      <td>2</td>\n",
              "      <td>54</td>\n",
              "      <td>manager</td>\n",
              "      <td>да конечно вам на ватсап или на почту</td>\n",
              "    </tr>\n",
              "    <tr>\n",
              "      <th>370</th>\n",
              "      <td>5</td>\n",
              "      <td>33</td>\n",
              "      <td>manager</td>\n",
              "      <td>с вами уже свяжется человек который непосредст...</td>\n",
              "    </tr>\n",
              "    <tr>\n",
              "      <th>253</th>\n",
              "      <td>3</td>\n",
              "      <td>4</td>\n",
              "      <td>manager</td>\n",
              "      <td>да дмитрий вот мне моя коллега анастасия подск...</td>\n",
              "    </tr>\n",
              "    <tr>\n",
              "      <th>197</th>\n",
              "      <td>2</td>\n",
              "      <td>33</td>\n",
              "      <td>manager</td>\n",
              "      <td>угу</td>\n",
              "    </tr>\n",
              "  </tbody>\n",
              "</table>\n",
              "</div>"
            ],
            "text/plain": [
              "     dlg_id  line_n     role  \\\n",
              "170       2       6  manager   \n",
              "398       5      61  manager   \n",
              "343       5       6  manager   \n",
              "448       5     111  manager   \n",
              "235       2      71  manager   \n",
              "144       1      35  manager   \n",
              "218       2      54  manager   \n",
              "370       5      33  manager   \n",
              "253       3       4  manager   \n",
              "197       2      33  manager   \n",
              "\n",
              "                                                  text  \n",
              "170  удобно вам сейчас говорить что я вам так расск...  \n",
              "398  да все верно то есть я вам просто сейчас выста...  \n",
              "343       так да да хорошо смотрите давайте по порядку  \n",
              "448  то есть это уже будете обсуждать с ним и если ...  \n",
              "235  не перепутала оставлю тогда на ватсап хорошо а...  \n",
              "144  так в очень странно мне просто указано 8 может...  \n",
              "218              да конечно вам на ватсап или на почту  \n",
              "370  с вами уже свяжется человек который непосредст...  \n",
              "253  да дмитрий вот мне моя коллега анастасия подск...  \n",
              "197                                                угу  "
            ]
          },
          "execution_count": 14,
          "metadata": {},
          "output_type": "execute_result"
        }
      ],
      "source": [
        "data_manager.sample(10)"
      ]
    },
    {
      "cell_type": "markdown",
      "metadata": {
        "id": "6WCcakGIfL0N"
      },
      "source": [
        " "
      ]
    },
    {
      "cell_type": "markdown",
      "metadata": {
        "id": "ZN84cJP3fL0N"
      },
      "source": [
        "Приступаем к выполнению заданий."
      ]
    },
    {
      "cell_type": "markdown",
      "metadata": {
        "id": "NA3nKtz7fL0N"
      },
      "source": [
        " "
      ]
    },
    {
      "cell_type": "markdown",
      "metadata": {
        "id": "Vv4_1NvxfL0O"
      },
      "source": [
        "**a. Извлекать реплики с приветствием – где менеджер поздоровался.**"
      ]
    },
    {
      "cell_type": "markdown",
      "metadata": {
        "id": "6_9_RCCCfL0O"
      },
      "source": [
        "Попытаемся найти различные варианты приветствий. "
      ]
    },
    {
      "cell_type": "code",
      "execution_count": null,
      "metadata": {
        "id": "sgguV-I1fL0O"
      },
      "outputs": [],
      "source": [
        "reg_exprs = [(r'\\w+дравствуйте', 'Здравствуйте'), (r'\\w+обрый+\\s+\\w+', 'Добрый день/вечер'), (r'\\w+ривет', 'Привет')]\n",
        "\n",
        "def greeting_search(reg_expr, number_list):\n",
        "    '''\n",
        "    Принимает на вход регулярное выражение и список с индексами строк, \n",
        "    ищет новые строки, соответсвующие регулярному выражению,\n",
        "    считает количество вхождений,\n",
        "    возвращает дополненный список с индексами, если новые строки нашлись по условию.\n",
        "    '''\n",
        "    \n",
        "    # компилируем регулярное выражение\n",
        "    reg_expr_compiled = re.compile(reg_expr[0])\n",
        "    count = 0\n",
        "    \n",
        "    print('Ищем приветствие: ', reg_expr[1])\n",
        "    print()\n",
        "    \n",
        "    # применяем выражение к тексту\n",
        "    for i, raw_text in enumerate(data_manager.text.values):\n",
        "        for g in reg_expr_compiled.findall(raw_text):\n",
        "            print(g)\n",
        "            ind = data_manager.index.values[i]\n",
        "            number_list.append(ind)\n",
        "            count += 1\n",
        "            \n",
        "    print()\n",
        "    if count > 0:\n",
        "        print(f'Нашлось {count} реплики менеджеров с таким приветствием.')\n",
        "        print()\n",
        "        print()\n",
        "    else:\n",
        "        print('Таких варантов приветствий у менеджеров не нашлось.')\n",
        "        print()\n",
        "        print()\n",
        "    return number_list\n",
        "    \n",
        "    "
      ]
    },
    {
      "cell_type": "code",
      "execution_count": null,
      "metadata": {
        "id": "Hiymd4evfL0O",
        "outputId": "c754e16a-abba-4f5d-e8eb-e39c4d26b607"
      },
      "outputs": [
        {
          "name": "stdout",
          "output_type": "stream",
          "text": [
            "Ищем приветствие:  Здравствуйте\n",
            "\n",
            "здравствуйте\n",
            "здравствуйте\n",
            "здравствуйте\n",
            "\n",
            "Нашлось 3 реплики менеджеров с таким приветствием.\n",
            "\n",
            "\n",
            "Ищем приветствие:  Добрый день/вечер\n",
            "\n",
            "добрый день\n",
            "добрый меня\n",
            "\n",
            "Нашлось 2 реплики менеджеров с таким приветствием.\n",
            "\n",
            "\n",
            "Ищем приветствие:  Привет\n",
            "\n",
            "\n",
            "Таких варантов приветствий у менеджеров не нашлось.\n",
            "\n",
            "\n"
          ]
        }
      ],
      "source": [
        "number_list = []\n",
        "\n",
        "for expr in reg_exprs:\n",
        "    greeting_search(expr, number_list)"
      ]
    },
    {
      "cell_type": "code",
      "execution_count": null,
      "metadata": {
        "id": "Pq0zI4BKfL0P",
        "outputId": "72efa7fd-5ea2-4013-a98a-301c25eeadec"
      },
      "outputs": [
        {
          "data": {
            "text/plain": [
              "[1, 110, 166, 250, 251]"
            ]
          },
          "execution_count": 17,
          "metadata": {},
          "output_type": "execute_result"
        }
      ],
      "source": [
        "number_list"
      ]
    },
    {
      "cell_type": "markdown",
      "metadata": {
        "id": "3XgIl1TEfL0P"
      },
      "source": [
        "Теперь создадим столбец в датасете, содержащий флаг приветствия."
      ]
    },
    {
      "cell_type": "code",
      "execution_count": null,
      "metadata": {
        "id": "LjiGzCmefL0P"
      },
      "outputs": [],
      "source": [
        "index_dict = dict(zip(range(len(data)), [0]*len(data)))"
      ]
    },
    {
      "cell_type": "code",
      "execution_count": null,
      "metadata": {
        "id": "mrcwfyB1fL0P"
      },
      "outputs": [],
      "source": [
        "for i in number_list:\n",
        "    index_dict[i] = 1"
      ]
    },
    {
      "cell_type": "code",
      "execution_count": null,
      "metadata": {
        "id": "jJqp5wyBfL0P"
      },
      "outputs": [],
      "source": [
        "data['is_greetings'] = list(index_dict.values())"
      ]
    },
    {
      "cell_type": "code",
      "execution_count": null,
      "metadata": {
        "id": "6dJg8NAqfL0P",
        "outputId": "d99e527d-cd5e-4773-e01a-8b3499e477da"
      },
      "outputs": [
        {
          "data": {
            "text/html": [
              "<div>\n",
              "<style scoped>\n",
              "    .dataframe tbody tr th:only-of-type {\n",
              "        vertical-align: middle;\n",
              "    }\n",
              "\n",
              "    .dataframe tbody tr th {\n",
              "        vertical-align: top;\n",
              "    }\n",
              "\n",
              "    .dataframe thead th {\n",
              "        text-align: right;\n",
              "    }\n",
              "</style>\n",
              "<table border=\"1\" class=\"dataframe\">\n",
              "  <thead>\n",
              "    <tr style=\"text-align: right;\">\n",
              "      <th></th>\n",
              "      <th>dlg_id</th>\n",
              "      <th>line_n</th>\n",
              "      <th>role</th>\n",
              "      <th>text</th>\n",
              "      <th>is_greetings</th>\n",
              "    </tr>\n",
              "  </thead>\n",
              "  <tbody>\n",
              "    <tr>\n",
              "      <th>0</th>\n",
              "      <td>0</td>\n",
              "      <td>0</td>\n",
              "      <td>client</td>\n",
              "      <td>алло</td>\n",
              "      <td>0</td>\n",
              "    </tr>\n",
              "    <tr>\n",
              "      <th>1</th>\n",
              "      <td>0</td>\n",
              "      <td>1</td>\n",
              "      <td>manager</td>\n",
              "      <td>алло здравствуйте</td>\n",
              "      <td>1</td>\n",
              "    </tr>\n",
              "    <tr>\n",
              "      <th>2</th>\n",
              "      <td>0</td>\n",
              "      <td>2</td>\n",
              "      <td>client</td>\n",
              "      <td>добрый день</td>\n",
              "      <td>0</td>\n",
              "    </tr>\n",
              "    <tr>\n",
              "      <th>3</th>\n",
              "      <td>0</td>\n",
              "      <td>3</td>\n",
              "      <td>manager</td>\n",
              "      <td>меня зовут ангелина компания диджитал бизнес з...</td>\n",
              "      <td>0</td>\n",
              "    </tr>\n",
              "    <tr>\n",
              "      <th>4</th>\n",
              "      <td>0</td>\n",
              "      <td>4</td>\n",
              "      <td>client</td>\n",
              "      <td>ага</td>\n",
              "      <td>0</td>\n",
              "    </tr>\n",
              "    <tr>\n",
              "      <th>5</th>\n",
              "      <td>0</td>\n",
              "      <td>5</td>\n",
              "      <td>manager</td>\n",
              "      <td>угу ну возможно вы рассмотрите и другие вариан...</td>\n",
              "      <td>0</td>\n",
              "    </tr>\n",
              "    <tr>\n",
              "      <th>6</th>\n",
              "      <td>0</td>\n",
              "      <td>6</td>\n",
              "      <td>client</td>\n",
              "      <td>да мы работаем с компанией которая нам подлива...</td>\n",
              "      <td>0</td>\n",
              "    </tr>\n",
              "    <tr>\n",
              "      <th>7</th>\n",
              "      <td>0</td>\n",
              "      <td>7</td>\n",
              "      <td>client</td>\n",
              "      <td>как как бы уже до этого момента работаем все у...</td>\n",
              "      <td>0</td>\n",
              "    </tr>\n",
              "    <tr>\n",
              "      <th>8</th>\n",
              "      <td>0</td>\n",
              "      <td>8</td>\n",
              "      <td>manager</td>\n",
              "      <td>угу а на что вы обращаете внимание при выборе</td>\n",
              "      <td>0</td>\n",
              "    </tr>\n",
              "    <tr>\n",
              "      <th>9</th>\n",
              "      <td>0</td>\n",
              "      <td>9</td>\n",
              "      <td>client</td>\n",
              "      <td>как бы нет</td>\n",
              "      <td>0</td>\n",
              "    </tr>\n",
              "  </tbody>\n",
              "</table>\n",
              "</div>"
            ],
            "text/plain": [
              "   dlg_id  line_n     role                                               text  \\\n",
              "0       0       0   client                                               алло   \n",
              "1       0       1  manager                                  алло здравствуйте   \n",
              "2       0       2   client                                        добрый день   \n",
              "3       0       3  manager  меня зовут ангелина компания диджитал бизнес з...   \n",
              "4       0       4   client                                                ага   \n",
              "5       0       5  manager  угу ну возможно вы рассмотрите и другие вариан...   \n",
              "6       0       6   client  да мы работаем с компанией которая нам подлива...   \n",
              "7       0       7   client  как как бы уже до этого момента работаем все у...   \n",
              "8       0       8  manager      угу а на что вы обращаете внимание при выборе   \n",
              "9       0       9   client                                         как бы нет   \n",
              "\n",
              "   is_greetings  \n",
              "0             0  \n",
              "1             1  \n",
              "2             0  \n",
              "3             0  \n",
              "4             0  \n",
              "5             0  \n",
              "6             0  \n",
              "7             0  \n",
              "8             0  \n",
              "9             0  "
            ]
          },
          "execution_count": 21,
          "metadata": {},
          "output_type": "execute_result"
        }
      ],
      "source": [
        "data.head(10)"
      ]
    },
    {
      "cell_type": "markdown",
      "metadata": {
        "id": "mDWZ3e53fL0Q"
      },
      "source": [
        " "
      ]
    },
    {
      "cell_type": "markdown",
      "metadata": {
        "id": "EvQtAc0MfL0Q"
      },
      "source": [
        "**b. Извлекать реплики, где менеджер представил себя.**"
      ]
    },
    {
      "cell_type": "markdown",
      "metadata": {
        "id": "DDT0NW2ofL0Q"
      },
      "source": [
        "Попробуем разные конструкции."
      ]
    },
    {
      "cell_type": "code",
      "execution_count": null,
      "metadata": {
        "id": "JrzqL-RhfL0Q"
      },
      "outputs": [],
      "source": [
        "# регулярка \n",
        "reg_expr_1 = r'\\w+еня зовут+\\s\\w+'\n",
        "number_list = []\n",
        "index_name_dict = dict()"
      ]
    },
    {
      "cell_type": "code",
      "execution_count": null,
      "metadata": {
        "id": "QWzhc4v3fL0Q",
        "outputId": "be4bfcb3-5f5a-4b02-e6c7-68c69032dd0c"
      },
      "outputs": [
        {
          "name": "stdout",
          "output_type": "stream",
          "text": [
            "меня зовут ангелина\n",
            "меня зовут ангелина\n",
            "меня зовут ангелина\n"
          ]
        }
      ],
      "source": [
        "# компилируем регулярное выражение\n",
        "reg_expr_compiled = re.compile(reg_expr_1)\n",
        "\n",
        "# применяем выражение к тексту\n",
        "for i, raw_text in enumerate(data_manager.text.values):\n",
        "    for g in reg_expr_compiled.findall(raw_text):\n",
        "        print(g)\n",
        "        manager_name = g.split(' ')[-1]\n",
        "        ind = data_manager.index.values[i]\n",
        "        number_list.append(ind)\n",
        "        index_name_dict[ind] = manager_name"
      ]
    },
    {
      "cell_type": "markdown",
      "metadata": {
        "id": "RGkhDtRSfL0Q"
      },
      "source": [
        "Нашлось 3 подобного рода реплики, содержащие имя менеджера."
      ]
    },
    {
      "cell_type": "code",
      "execution_count": null,
      "metadata": {
        "id": "pcf6H6ZVfL0Q",
        "outputId": "dffaeecd-43ac-46fe-b523-c8a592e4ff8a"
      },
      "outputs": [
        {
          "name": "stdout",
          "output_type": "stream",
          "text": [
            "меня максим зовут\n"
          ]
        }
      ],
      "source": [
        "reg_expr_2 = r'\\w+\\s+\\w+\\s+зовут'\n",
        "\n",
        "# компилируем регулярное выражение\n",
        "reg_expr_compiled = re.compile(reg_expr_2)\n",
        "\n",
        "# применяем выражение к тексту\n",
        "for i, raw_text in enumerate(data_manager.text.values):\n",
        "    for g in reg_expr_compiled.findall(raw_text):\n",
        "        print(g)\n",
        "        manager_name = g.split(' ')[-2]\n",
        "        ind = data_manager.index.values[i]\n",
        "        number_list.append(ind)\n",
        "        index_name_dict[ind] = manager_name"
      ]
    },
    {
      "cell_type": "markdown",
      "metadata": {
        "id": "UuUl1opNfL0R"
      },
      "source": [
        "Такого рода реплика нашлась одна."
      ]
    },
    {
      "cell_type": "markdown",
      "metadata": {
        "id": "EaVL_mHLfL0R"
      },
      "source": [
        "Теперь проверим еще одну конструкцию типа \"Это <имя менеджера>\". Так как таких констукций может быть очень много в датасете, не содержащих имена, то для выполнения этого пункта, скачаем базу имен, и второй элемент конструкции будем проверять на соответствие именам."
      ]
    },
    {
      "cell_type": "markdown",
      "metadata": {
        "id": "rlzHa9BwfL0R"
      },
      "source": [
        "Загружаем датасет, содержащий русские имена."
      ]
    },
    {
      "cell_type": "code",
      "execution_count": null,
      "metadata": {
        "id": "wvb3q1bYfL0R"
      },
      "outputs": [],
      "source": [
        "russian_names_df = pd.read_csv('russian_names.csv', sep=';')"
      ]
    },
    {
      "cell_type": "code",
      "execution_count": null,
      "metadata": {
        "id": "Ei8yIHPXfL0R",
        "outputId": "fffcec1f-526c-479e-e5c4-0fd33f0eea72"
      },
      "outputs": [
        {
          "data": {
            "text/html": [
              "<div>\n",
              "<style scoped>\n",
              "    .dataframe tbody tr th:only-of-type {\n",
              "        vertical-align: middle;\n",
              "    }\n",
              "\n",
              "    .dataframe tbody tr th {\n",
              "        vertical-align: top;\n",
              "    }\n",
              "\n",
              "    .dataframe thead th {\n",
              "        text-align: right;\n",
              "    }\n",
              "</style>\n",
              "<table border=\"1\" class=\"dataframe\">\n",
              "  <thead>\n",
              "    <tr style=\"text-align: right;\">\n",
              "      <th></th>\n",
              "      <th>ID</th>\n",
              "      <th>Name</th>\n",
              "      <th>Sex</th>\n",
              "      <th>PeoplesCount</th>\n",
              "      <th>WhenPeoplesCount</th>\n",
              "      <th>Source</th>\n",
              "    </tr>\n",
              "  </thead>\n",
              "  <tbody>\n",
              "    <tr>\n",
              "      <th>0</th>\n",
              "      <td>19903</td>\n",
              "      <td>Аалия</td>\n",
              "      <td>Ж</td>\n",
              "      <td>13</td>\n",
              "      <td>23.06.2016 13:39:41</td>\n",
              "      <td>myData.biz</td>\n",
              "    </tr>\n",
              "    <tr>\n",
              "      <th>1</th>\n",
              "      <td>19904</td>\n",
              "      <td>Аанжелла</td>\n",
              "      <td>Ж</td>\n",
              "      <td>0</td>\n",
              "      <td>23.06.2016 13:39:46</td>\n",
              "      <td>myData.biz</td>\n",
              "    </tr>\n",
              "    <tr>\n",
              "      <th>2</th>\n",
              "      <td>19905</td>\n",
              "      <td>Аба</td>\n",
              "      <td>Ж</td>\n",
              "      <td>1000</td>\n",
              "      <td>23.06.2016 13:39:55</td>\n",
              "      <td>myData.biz</td>\n",
              "    </tr>\n",
              "    <tr>\n",
              "      <th>3</th>\n",
              "      <td>19906</td>\n",
              "      <td>Абав</td>\n",
              "      <td>Ж</td>\n",
              "      <td>0</td>\n",
              "      <td>23.06.2016 13:40:02</td>\n",
              "      <td>myData.biz</td>\n",
              "    </tr>\n",
              "    <tr>\n",
              "      <th>4</th>\n",
              "      <td>19907</td>\n",
              "      <td>Абам</td>\n",
              "      <td>Ж</td>\n",
              "      <td>32</td>\n",
              "      <td>23.06.2016 13:40:11</td>\n",
              "      <td>myData.biz</td>\n",
              "    </tr>\n",
              "  </tbody>\n",
              "</table>\n",
              "</div>"
            ],
            "text/plain": [
              "      ID      Name Sex  PeoplesCount     WhenPeoplesCount      Source\n",
              "0  19903     Аалия   Ж            13  23.06.2016 13:39:41  myData.biz\n",
              "1  19904  Аанжелла   Ж             0  23.06.2016 13:39:46  myData.biz\n",
              "2  19905       Аба   Ж          1000  23.06.2016 13:39:55  myData.biz\n",
              "3  19906      Абав   Ж             0  23.06.2016 13:40:02  myData.biz\n",
              "4  19907      Абам   Ж            32  23.06.2016 13:40:11  myData.biz"
            ]
          },
          "execution_count": 26,
          "metadata": {},
          "output_type": "execute_result"
        }
      ],
      "source": [
        "russian_names_df.head()"
      ]
    },
    {
      "cell_type": "code",
      "execution_count": null,
      "metadata": {
        "id": "TMM3W2O6fL0R"
      },
      "outputs": [],
      "source": [
        "russian_names = [name.lower() for name in russian_names_df.Name.values]"
      ]
    },
    {
      "cell_type": "code",
      "execution_count": null,
      "metadata": {
        "id": "84XLNAKcfL0S",
        "outputId": "b92be79d-88dd-45b9-d144-83e9256cd76d"
      },
      "outputs": [
        {
          "data": {
            "text/plain": [
              "51529"
            ]
          },
          "execution_count": 28,
          "metadata": {},
          "output_type": "execute_result"
        }
      ],
      "source": [
        "len(russian_names)"
      ]
    },
    {
      "cell_type": "markdown",
      "metadata": {
        "id": "qYxRPG9bfL0S"
      },
      "source": [
        "Всего в базе 51529 русских имени."
      ]
    },
    {
      "cell_type": "code",
      "execution_count": null,
      "metadata": {
        "id": "lWf3Cf9kfL0S",
        "outputId": "88fb89a9-e396-4aeb-ea54-2731f85ab5ea"
      },
      "outputs": [
        {
          "name": "stdout",
          "output_type": "stream",
          "text": [
            "это анастасия\n"
          ]
        }
      ],
      "source": [
        "reg_expr_3 = r'это+\\s+\\w+'\n",
        "\n",
        "# компилируем регулярное выражение\n",
        "reg_expr_compiled = re.compile(reg_expr_3)\n",
        "\n",
        "# применяем выражение к тексту\n",
        "for i, raw_text in enumerate(data_manager.text.values):\n",
        "    for g in reg_expr_compiled.findall(raw_text):\n",
        "        manager_name = g.split(' ')[-1]\n",
        "        if manager_name in russian_names:\n",
        "            print(g)\n",
        "            ind = data_manager.index.values[i]\n",
        "            number_list.append(ind)\n",
        "            index_name_dict[ind] = manager_name"
      ]
    },
    {
      "cell_type": "markdown",
      "metadata": {
        "id": "EngDtP31fL0S"
      },
      "source": [
        "Находим таким образом еще одно имя менеджера."
      ]
    },
    {
      "cell_type": "code",
      "execution_count": null,
      "metadata": {
        "id": "MFDkK7_-fL0S",
        "outputId": "603a10c9-ec8e-4f38-df2d-079096fea4e7"
      },
      "outputs": [
        {
          "data": {
            "text/plain": [
              "{3: 'ангелина',\n",
              " 111: 'ангелина',\n",
              " 167: 'ангелина',\n",
              " 251: 'максим',\n",
              " 338: 'анастасия'}"
            ]
          },
          "execution_count": 30,
          "metadata": {},
          "output_type": "execute_result"
        }
      ],
      "source": [
        "index_name_dict"
      ]
    },
    {
      "cell_type": "code",
      "execution_count": null,
      "metadata": {
        "id": "lAqUdpxJfL0S",
        "outputId": "1c3bca02-89f0-4143-aca8-61999b7a7d0e"
      },
      "outputs": [
        {
          "data": {
            "text/plain": [
              "[3, 111, 167, 251, 338]"
            ]
          },
          "execution_count": 31,
          "metadata": {},
          "output_type": "execute_result"
        }
      ],
      "source": [
        "number_list"
      ]
    },
    {
      "cell_type": "markdown",
      "metadata": {
        "id": "GKMkG4-WfL0T"
      },
      "source": [
        "Создаем столбец-флаг с указанием, где менеджер представляется."
      ]
    },
    {
      "cell_type": "code",
      "execution_count": null,
      "metadata": {
        "id": "EAbWCpfbfL0T"
      },
      "outputs": [],
      "source": [
        "index_dict = dict(zip(range(len(data)), [0]*len(data)))"
      ]
    },
    {
      "cell_type": "code",
      "execution_count": null,
      "metadata": {
        "id": "KtbFgVhDfL0T"
      },
      "outputs": [],
      "source": [
        "for i in number_list:\n",
        "    index_dict[i] = 1"
      ]
    },
    {
      "cell_type": "code",
      "execution_count": null,
      "metadata": {
        "id": "q-I_RM5IfL0T"
      },
      "outputs": [],
      "source": [
        "data['is_name'] = list(index_dict.values())"
      ]
    },
    {
      "cell_type": "code",
      "execution_count": null,
      "metadata": {
        "id": "A4ROrL5_fL0T",
        "outputId": "e7044a56-151a-42ee-ad7c-b5f61567ee4d"
      },
      "outputs": [
        {
          "data": {
            "text/html": [
              "<div>\n",
              "<style scoped>\n",
              "    .dataframe tbody tr th:only-of-type {\n",
              "        vertical-align: middle;\n",
              "    }\n",
              "\n",
              "    .dataframe tbody tr th {\n",
              "        vertical-align: top;\n",
              "    }\n",
              "\n",
              "    .dataframe thead th {\n",
              "        text-align: right;\n",
              "    }\n",
              "</style>\n",
              "<table border=\"1\" class=\"dataframe\">\n",
              "  <thead>\n",
              "    <tr style=\"text-align: right;\">\n",
              "      <th></th>\n",
              "      <th>dlg_id</th>\n",
              "      <th>line_n</th>\n",
              "      <th>role</th>\n",
              "      <th>text</th>\n",
              "      <th>is_greetings</th>\n",
              "      <th>is_name</th>\n",
              "    </tr>\n",
              "  </thead>\n",
              "  <tbody>\n",
              "    <tr>\n",
              "      <th>0</th>\n",
              "      <td>0</td>\n",
              "      <td>0</td>\n",
              "      <td>client</td>\n",
              "      <td>алло</td>\n",
              "      <td>0</td>\n",
              "      <td>0</td>\n",
              "    </tr>\n",
              "    <tr>\n",
              "      <th>1</th>\n",
              "      <td>0</td>\n",
              "      <td>1</td>\n",
              "      <td>manager</td>\n",
              "      <td>алло здравствуйте</td>\n",
              "      <td>1</td>\n",
              "      <td>0</td>\n",
              "    </tr>\n",
              "    <tr>\n",
              "      <th>2</th>\n",
              "      <td>0</td>\n",
              "      <td>2</td>\n",
              "      <td>client</td>\n",
              "      <td>добрый день</td>\n",
              "      <td>0</td>\n",
              "      <td>0</td>\n",
              "    </tr>\n",
              "    <tr>\n",
              "      <th>3</th>\n",
              "      <td>0</td>\n",
              "      <td>3</td>\n",
              "      <td>manager</td>\n",
              "      <td>меня зовут ангелина компания диджитал бизнес з...</td>\n",
              "      <td>0</td>\n",
              "      <td>1</td>\n",
              "    </tr>\n",
              "    <tr>\n",
              "      <th>4</th>\n",
              "      <td>0</td>\n",
              "      <td>4</td>\n",
              "      <td>client</td>\n",
              "      <td>ага</td>\n",
              "      <td>0</td>\n",
              "      <td>0</td>\n",
              "    </tr>\n",
              "    <tr>\n",
              "      <th>...</th>\n",
              "      <td>...</td>\n",
              "      <td>...</td>\n",
              "      <td>...</td>\n",
              "      <td>...</td>\n",
              "      <td>...</td>\n",
              "      <td>...</td>\n",
              "    </tr>\n",
              "    <tr>\n",
              "      <th>475</th>\n",
              "      <td>5</td>\n",
              "      <td>138</td>\n",
              "      <td>manager</td>\n",
              "      <td>по поводу виджетов и с ними уже обсудите конкр...</td>\n",
              "      <td>0</td>\n",
              "      <td>0</td>\n",
              "    </tr>\n",
              "    <tr>\n",
              "      <th>476</th>\n",
              "      <td>5</td>\n",
              "      <td>139</td>\n",
              "      <td>manager</td>\n",
              "      <td>все я вам высылаю счет и с вами на связи если ...</td>\n",
              "      <td>0</td>\n",
              "      <td>0</td>\n",
              "    </tr>\n",
              "    <tr>\n",
              "      <th>477</th>\n",
              "      <td>5</td>\n",
              "      <td>140</td>\n",
              "      <td>client</td>\n",
              "      <td>спасибо спасибо</td>\n",
              "      <td>0</td>\n",
              "      <td>0</td>\n",
              "    </tr>\n",
              "    <tr>\n",
              "      <th>478</th>\n",
              "      <td>5</td>\n",
              "      <td>141</td>\n",
              "      <td>client</td>\n",
              "      <td>да да тогда созвонимся ага спасибо вам давайте</td>\n",
              "      <td>0</td>\n",
              "      <td>0</td>\n",
              "    </tr>\n",
              "    <tr>\n",
              "      <th>479</th>\n",
              "      <td>5</td>\n",
              "      <td>142</td>\n",
              "      <td>manager</td>\n",
              "      <td>ну до свидания хорошего вечера</td>\n",
              "      <td>0</td>\n",
              "      <td>0</td>\n",
              "    </tr>\n",
              "  </tbody>\n",
              "</table>\n",
              "<p>480 rows × 6 columns</p>\n",
              "</div>"
            ],
            "text/plain": [
              "     dlg_id  line_n     role  \\\n",
              "0         0       0   client   \n",
              "1         0       1  manager   \n",
              "2         0       2   client   \n",
              "3         0       3  manager   \n",
              "4         0       4   client   \n",
              "..      ...     ...      ...   \n",
              "475       5     138  manager   \n",
              "476       5     139  manager   \n",
              "477       5     140   client   \n",
              "478       5     141   client   \n",
              "479       5     142  manager   \n",
              "\n",
              "                                                  text  is_greetings  is_name  \n",
              "0                                                 алло             0        0  \n",
              "1                                    алло здравствуйте             1        0  \n",
              "2                                          добрый день             0        0  \n",
              "3    меня зовут ангелина компания диджитал бизнес з...             0        1  \n",
              "4                                                  ага             0        0  \n",
              "..                                                 ...           ...      ...  \n",
              "475  по поводу виджетов и с ними уже обсудите конкр...             0        0  \n",
              "476  все я вам высылаю счет и с вами на связи если ...             0        0  \n",
              "477                                    спасибо спасибо             0        0  \n",
              "478     да да тогда созвонимся ага спасибо вам давайте             0        0  \n",
              "479                     ну до свидания хорошего вечера             0        0  \n",
              "\n",
              "[480 rows x 6 columns]"
            ]
          },
          "execution_count": 35,
          "metadata": {},
          "output_type": "execute_result"
        }
      ],
      "source": [
        "data"
      ]
    },
    {
      "cell_type": "markdown",
      "metadata": {
        "id": "apZ961plfL0T"
      },
      "source": [
        " "
      ]
    },
    {
      "cell_type": "markdown",
      "metadata": {
        "id": "1zRD1IxKfL0T"
      },
      "source": [
        "**c. Извлекать имя менеджера.**"
      ]
    },
    {
      "cell_type": "markdown",
      "metadata": {
        "id": "lviy3eLcfL0U"
      },
      "source": [
        "Создаем столбец с указанием имени менеджера для каждого диалога."
      ]
    },
    {
      "cell_type": "code",
      "execution_count": null,
      "metadata": {
        "id": "dF0axDurfL0U"
      },
      "outputs": [],
      "source": [
        "dlg_name_dict = dict()\n",
        "for i in number_list:\n",
        "    dlg = data.iloc[i, 0]\n",
        "    dlg_name_dict[dlg] = index_name_dict[i]\n",
        "    "
      ]
    },
    {
      "cell_type": "code",
      "execution_count": null,
      "metadata": {
        "id": "dRtjTipJfL0U",
        "outputId": "e1c52218-7d19-4261-9898-9d5ef5e92355"
      },
      "outputs": [
        {
          "data": {
            "text/plain": [
              "{0: 'ангелина', 1: 'ангелина', 2: 'ангелина', 3: 'максим', 5: 'анастасия'}"
            ]
          },
          "execution_count": 37,
          "metadata": {},
          "output_type": "execute_result"
        }
      ],
      "source": [
        "dlg_name_dict"
      ]
    },
    {
      "cell_type": "code",
      "execution_count": null,
      "metadata": {
        "id": "syDfxu32fL0U"
      },
      "outputs": [],
      "source": [
        "data['manager_name'] = data.dlg_id.map(dlg_name_dict)"
      ]
    },
    {
      "cell_type": "code",
      "execution_count": null,
      "metadata": {
        "id": "-tIFQjSufL0U",
        "outputId": "aa03b537-d3d3-4375-c67e-7023d3a9d813"
      },
      "outputs": [
        {
          "data": {
            "text/html": [
              "<div>\n",
              "<style scoped>\n",
              "    .dataframe tbody tr th:only-of-type {\n",
              "        vertical-align: middle;\n",
              "    }\n",
              "\n",
              "    .dataframe tbody tr th {\n",
              "        vertical-align: top;\n",
              "    }\n",
              "\n",
              "    .dataframe thead th {\n",
              "        text-align: right;\n",
              "    }\n",
              "</style>\n",
              "<table border=\"1\" class=\"dataframe\">\n",
              "  <thead>\n",
              "    <tr style=\"text-align: right;\">\n",
              "      <th></th>\n",
              "      <th>dlg_id</th>\n",
              "      <th>line_n</th>\n",
              "      <th>role</th>\n",
              "      <th>text</th>\n",
              "      <th>is_greetings</th>\n",
              "      <th>is_name</th>\n",
              "      <th>manager_name</th>\n",
              "    </tr>\n",
              "  </thead>\n",
              "  <tbody>\n",
              "    <tr>\n",
              "      <th>126</th>\n",
              "      <td>1</td>\n",
              "      <td>17</td>\n",
              "      <td>manager</td>\n",
              "      <td>нашей да а тариф базовый на 6 месяцев это 17964 р</td>\n",
              "      <td>0</td>\n",
              "      <td>0</td>\n",
              "      <td>ангелина</td>\n",
              "    </tr>\n",
              "    <tr>\n",
              "      <th>70</th>\n",
              "      <td>0</td>\n",
              "      <td>70</td>\n",
              "      <td>client</td>\n",
              "      <td>да делайте аудиты ну то есть</td>\n",
              "      <td>0</td>\n",
              "      <td>0</td>\n",
              "      <td>ангелина</td>\n",
              "    </tr>\n",
              "    <tr>\n",
              "      <th>55</th>\n",
              "      <td>0</td>\n",
              "      <td>55</td>\n",
              "      <td>client</td>\n",
              "      <td>по отношению к вашей компании</td>\n",
              "      <td>0</td>\n",
              "      <td>0</td>\n",
              "      <td>ангелина</td>\n",
              "    </tr>\n",
              "    <tr>\n",
              "      <th>134</th>\n",
              "      <td>1</td>\n",
              "      <td>25</td>\n",
              "      <td>client</td>\n",
              "      <td>да ну я здесь</td>\n",
              "      <td>0</td>\n",
              "      <td>0</td>\n",
              "      <td>ангелина</td>\n",
              "    </tr>\n",
              "    <tr>\n",
              "      <th>438</th>\n",
              "      <td>5</td>\n",
              "      <td>101</td>\n",
              "      <td>manager</td>\n",
              "      <td>вот смотрите вячеслав сейчас со мной я вам выш...</td>\n",
              "      <td>0</td>\n",
              "      <td>0</td>\n",
              "      <td>анастасия</td>\n",
              "    </tr>\n",
              "    <tr>\n",
              "      <th>192</th>\n",
              "      <td>2</td>\n",
              "      <td>28</td>\n",
              "      <td>client</td>\n",
              "      <td>так значит у вас пишет и все</td>\n",
              "      <td>0</td>\n",
              "      <td>0</td>\n",
              "      <td>ангелина</td>\n",
              "    </tr>\n",
              "    <tr>\n",
              "      <th>453</th>\n",
              "      <td>5</td>\n",
              "      <td>116</td>\n",
              "      <td>manager</td>\n",
              "      <td>не знаешь</td>\n",
              "      <td>0</td>\n",
              "      <td>0</td>\n",
              "      <td>анастасия</td>\n",
              "    </tr>\n",
              "    <tr>\n",
              "      <th>336</th>\n",
              "      <td>4</td>\n",
              "      <td>34</td>\n",
              "      <td>client</td>\n",
              "      <td>угу да до свидания</td>\n",
              "      <td>0</td>\n",
              "      <td>0</td>\n",
              "      <td>NaN</td>\n",
              "    </tr>\n",
              "    <tr>\n",
              "      <th>267</th>\n",
              "      <td>3</td>\n",
              "      <td>18</td>\n",
              "      <td>client</td>\n",
              "      <td>угу</td>\n",
              "      <td>0</td>\n",
              "      <td>0</td>\n",
              "      <td>максим</td>\n",
              "    </tr>\n",
              "    <tr>\n",
              "      <th>6</th>\n",
              "      <td>0</td>\n",
              "      <td>6</td>\n",
              "      <td>client</td>\n",
              "      <td>да мы работаем с компанией которая нам подлива...</td>\n",
              "      <td>0</td>\n",
              "      <td>0</td>\n",
              "      <td>ангелина</td>\n",
              "    </tr>\n",
              "  </tbody>\n",
              "</table>\n",
              "</div>"
            ],
            "text/plain": [
              "     dlg_id  line_n     role  \\\n",
              "126       1      17  manager   \n",
              "70        0      70   client   \n",
              "55        0      55   client   \n",
              "134       1      25   client   \n",
              "438       5     101  manager   \n",
              "192       2      28   client   \n",
              "453       5     116  manager   \n",
              "336       4      34   client   \n",
              "267       3      18   client   \n",
              "6         0       6   client   \n",
              "\n",
              "                                                  text  is_greetings  is_name  \\\n",
              "126  нашей да а тариф базовый на 6 месяцев это 17964 р             0        0   \n",
              "70                        да делайте аудиты ну то есть             0        0   \n",
              "55                       по отношению к вашей компании             0        0   \n",
              "134                                      да ну я здесь             0        0   \n",
              "438  вот смотрите вячеслав сейчас со мной я вам выш...             0        0   \n",
              "192                       так значит у вас пишет и все             0        0   \n",
              "453                                          не знаешь             0        0   \n",
              "336                                 угу да до свидания             0        0   \n",
              "267                                                угу             0        0   \n",
              "6    да мы работаем с компанией которая нам подлива...             0        0   \n",
              "\n",
              "    manager_name  \n",
              "126     ангелина  \n",
              "70      ангелина  \n",
              "55      ангелина  \n",
              "134     ангелина  \n",
              "438    анастасия  \n",
              "192     ангелина  \n",
              "453    анастасия  \n",
              "336          NaN  \n",
              "267       максим  \n",
              "6       ангелина  "
            ]
          },
          "execution_count": 39,
          "metadata": {},
          "output_type": "execute_result"
        }
      ],
      "source": [
        "data.sample(10)"
      ]
    },
    {
      "cell_type": "markdown",
      "metadata": {
        "id": "itxFFCOyfL0U"
      },
      "source": [
        " "
      ]
    },
    {
      "cell_type": "markdown",
      "metadata": {
        "id": "dUPi0ZYdfL0U"
      },
      "source": [
        "**d. Извлекать название компании.**"
      ]
    },
    {
      "cell_type": "code",
      "execution_count": null,
      "metadata": {
        "id": "T1_NgmZKfL0U",
        "outputId": "89da9a1a-ea5d-4ff2-9222-5227dbc1a61a"
      },
      "outputs": [
        {
          "name": "stdout",
          "output_type": "stream",
          "text": [
            "компания диджитал бизнес звоним\n",
            "компания диджитал бизнес звоню\n",
            "компания диджитал бизнес звоню\n",
            "компания китобизнес удобно говорить\n",
            "компания хорошо а у\n"
          ]
        }
      ],
      "source": [
        "# регулярное выражение\n",
        "reg_expr_4 = r'компания+\\s+\\w+\\s+\\w+\\s+\\w+'\n",
        "number_list = []\n",
        "company_dict = dict()\n",
        "\n",
        "# компилируем регулярное выражение\n",
        "reg_expr_compiled = re.compile(reg_expr_4)\n",
        "\n",
        "# применяем выражение к тексту\n",
        "for i, raw_text in enumerate(data_manager.text.values):\n",
        "    for g in reg_expr_compiled.findall(raw_text):\n",
        "        print(g)\n",
        "        if g.split(' ')[1] == 'диджитал':\n",
        "            company_name = g.split(' ')[1] + ' ' + g.split(' ')[2]\n",
        "            ind = data_manager.index.values[i]\n",
        "            number_list.append(ind)\n",
        "            company_dict[ind] = company_name\n",
        "        if g.split(' ')[1] == 'китобизнес':\n",
        "            company_name = g.split(' ')[1]\n",
        "            ind = data_manager.index.values[i]\n",
        "            number_list.append(ind)\n",
        "            company_dict[ind] = company_name"
      ]
    },
    {
      "cell_type": "markdown",
      "metadata": {
        "id": "UEZXLrwBfL0V"
      },
      "source": [
        "Видим, что последний вариант не подходит, поэтому попадают только первые 4."
      ]
    },
    {
      "cell_type": "code",
      "execution_count": null,
      "metadata": {
        "id": "dVd0xEdCfL0V",
        "outputId": "c2714033-e297-4889-bb99-f0432ffe8ee3"
      },
      "outputs": [
        {
          "data": {
            "text/plain": [
              "[3, 111, 167, 251]"
            ]
          },
          "execution_count": 41,
          "metadata": {},
          "output_type": "execute_result"
        }
      ],
      "source": [
        "number_list"
      ]
    },
    {
      "cell_type": "code",
      "execution_count": null,
      "metadata": {
        "id": "kvDyiblGfL0V",
        "outputId": "dab7ef41-1e26-4292-af39-a846ef220dcd"
      },
      "outputs": [
        {
          "data": {
            "text/plain": [
              "{3: 'диджитал бизнес',\n",
              " 111: 'диджитал бизнес',\n",
              " 167: 'диджитал бизнес',\n",
              " 251: 'китобизнес'}"
            ]
          },
          "execution_count": 42,
          "metadata": {},
          "output_type": "execute_result"
        }
      ],
      "source": [
        "company_dict"
      ]
    },
    {
      "cell_type": "markdown",
      "metadata": {
        "id": "u1v4JezLfL0V"
      },
      "source": [
        "Создадим список dlg_company_dict, содержащий id диалога и название компании."
      ]
    },
    {
      "cell_type": "code",
      "execution_count": null,
      "metadata": {
        "id": "Q_8o0e91fL0V"
      },
      "outputs": [],
      "source": [
        "dlg_company_dict = dict()\n",
        "for i in number_list:\n",
        "    dlg = data.iloc[i, 0]\n",
        "    dlg_company_dict[dlg] = company_dict[i]"
      ]
    },
    {
      "cell_type": "code",
      "execution_count": null,
      "metadata": {
        "id": "KGBJGYiXfL0V",
        "outputId": "c9fd3032-a9b9-4a7d-ae28-dce7966e9f3c"
      },
      "outputs": [
        {
          "data": {
            "text/plain": [
              "{0: 'диджитал бизнес',\n",
              " 1: 'диджитал бизнес',\n",
              " 2: 'диджитал бизнес',\n",
              " 3: 'китобизнес'}"
            ]
          },
          "execution_count": 44,
          "metadata": {},
          "output_type": "execute_result"
        }
      ],
      "source": [
        "dlg_company_dict"
      ]
    },
    {
      "cell_type": "markdown",
      "metadata": {
        "id": "4XsCGG4kfL0V"
      },
      "source": [
        "Создадим столбец company_name в исходном датасете, содержащий название компании."
      ]
    },
    {
      "cell_type": "code",
      "execution_count": null,
      "metadata": {
        "id": "y_DJ-e-XfL0W"
      },
      "outputs": [],
      "source": [
        "data['company_name'] = data.dlg_id.map(dlg_company_dict)"
      ]
    },
    {
      "cell_type": "code",
      "execution_count": null,
      "metadata": {
        "id": "OgByLZW1fL0W",
        "outputId": "4da3c514-8046-4f3e-c5d9-d628dfd669e9"
      },
      "outputs": [
        {
          "data": {
            "text/html": [
              "<div>\n",
              "<style scoped>\n",
              "    .dataframe tbody tr th:only-of-type {\n",
              "        vertical-align: middle;\n",
              "    }\n",
              "\n",
              "    .dataframe tbody tr th {\n",
              "        vertical-align: top;\n",
              "    }\n",
              "\n",
              "    .dataframe thead th {\n",
              "        text-align: right;\n",
              "    }\n",
              "</style>\n",
              "<table border=\"1\" class=\"dataframe\">\n",
              "  <thead>\n",
              "    <tr style=\"text-align: right;\">\n",
              "      <th></th>\n",
              "      <th>dlg_id</th>\n",
              "      <th>line_n</th>\n",
              "      <th>role</th>\n",
              "      <th>text</th>\n",
              "      <th>is_greetings</th>\n",
              "      <th>is_name</th>\n",
              "      <th>manager_name</th>\n",
              "      <th>company_name</th>\n",
              "    </tr>\n",
              "  </thead>\n",
              "  <tbody>\n",
              "    <tr>\n",
              "      <th>169</th>\n",
              "      <td>2</td>\n",
              "      <td>5</td>\n",
              "      <td>client</td>\n",
              "      <td>ну разговаривать удобно да</td>\n",
              "      <td>0</td>\n",
              "      <td>0</td>\n",
              "      <td>ангелина</td>\n",
              "      <td>диджитал бизнес</td>\n",
              "    </tr>\n",
              "    <tr>\n",
              "      <th>326</th>\n",
              "      <td>4</td>\n",
              "      <td>24</td>\n",
              "      <td>client</td>\n",
              "      <td>угу</td>\n",
              "      <td>0</td>\n",
              "      <td>0</td>\n",
              "      <td>NaN</td>\n",
              "      <td>NaN</td>\n",
              "    </tr>\n",
              "    <tr>\n",
              "      <th>403</th>\n",
              "      <td>5</td>\n",
              "      <td>66</td>\n",
              "      <td>client</td>\n",
              "      <td>да да и когда счет будет 9 900 да</td>\n",
              "      <td>0</td>\n",
              "      <td>0</td>\n",
              "      <td>анастасия</td>\n",
              "      <td>NaN</td>\n",
              "    </tr>\n",
              "    <tr>\n",
              "      <th>173</th>\n",
              "      <td>2</td>\n",
              "      <td>9</td>\n",
              "      <td>manager</td>\n",
              "      <td>угу я поняла ну по стоимости везде одинаковые ...</td>\n",
              "      <td>0</td>\n",
              "      <td>0</td>\n",
              "      <td>ангелина</td>\n",
              "      <td>диджитал бизнес</td>\n",
              "    </tr>\n",
              "    <tr>\n",
              "      <th>15</th>\n",
              "      <td>0</td>\n",
              "      <td>15</td>\n",
              "      <td>manager</td>\n",
              "      <td>ну у вас срок заканчивается поэтому мы набрали...</td>\n",
              "      <td>0</td>\n",
              "      <td>0</td>\n",
              "      <td>ангелина</td>\n",
              "      <td>диджитал бизнес</td>\n",
              "    </tr>\n",
              "    <tr>\n",
              "      <th>239</th>\n",
              "      <td>2</td>\n",
              "      <td>75</td>\n",
              "      <td>manager</td>\n",
              "      <td>у вас в любое время есть с какого по какого</td>\n",
              "      <td>0</td>\n",
              "      <td>0</td>\n",
              "      <td>ангелина</td>\n",
              "      <td>диджитал бизнес</td>\n",
              "    </tr>\n",
              "    <tr>\n",
              "      <th>387</th>\n",
              "      <td>5</td>\n",
              "      <td>50</td>\n",
              "      <td>manager</td>\n",
              "      <td>у вас получится всего в сумме 13 месяцев там о...</td>\n",
              "      <td>0</td>\n",
              "      <td>0</td>\n",
              "      <td>анастасия</td>\n",
              "      <td>NaN</td>\n",
              "    </tr>\n",
              "    <tr>\n",
              "      <th>252</th>\n",
              "      <td>3</td>\n",
              "      <td>3</td>\n",
              "      <td>client</td>\n",
              "      <td>да удобно</td>\n",
              "      <td>0</td>\n",
              "      <td>0</td>\n",
              "      <td>максим</td>\n",
              "      <td>китобизнес</td>\n",
              "    </tr>\n",
              "    <tr>\n",
              "      <th>347</th>\n",
              "      <td>5</td>\n",
              "      <td>10</td>\n",
              "      <td>client</td>\n",
              "      <td>да</td>\n",
              "      <td>0</td>\n",
              "      <td>0</td>\n",
              "      <td>анастасия</td>\n",
              "      <td>NaN</td>\n",
              "    </tr>\n",
              "    <tr>\n",
              "      <th>407</th>\n",
              "      <td>5</td>\n",
              "      <td>70</td>\n",
              "      <td>client</td>\n",
              "      <td>да за 13 месяцев да или за 14</td>\n",
              "      <td>0</td>\n",
              "      <td>0</td>\n",
              "      <td>анастасия</td>\n",
              "      <td>NaN</td>\n",
              "    </tr>\n",
              "  </tbody>\n",
              "</table>\n",
              "</div>"
            ],
            "text/plain": [
              "     dlg_id  line_n     role  \\\n",
              "169       2       5   client   \n",
              "326       4      24   client   \n",
              "403       5      66   client   \n",
              "173       2       9  manager   \n",
              "15        0      15  manager   \n",
              "239       2      75  manager   \n",
              "387       5      50  manager   \n",
              "252       3       3   client   \n",
              "347       5      10   client   \n",
              "407       5      70   client   \n",
              "\n",
              "                                                  text  is_greetings  is_name  \\\n",
              "169                         ну разговаривать удобно да             0        0   \n",
              "326                                                угу             0        0   \n",
              "403                  да да и когда счет будет 9 900 да             0        0   \n",
              "173  угу я поняла ну по стоимости везде одинаковые ...             0        0   \n",
              "15   ну у вас срок заканчивается поэтому мы набрали...             0        0   \n",
              "239        у вас в любое время есть с какого по какого             0        0   \n",
              "387  у вас получится всего в сумме 13 месяцев там о...             0        0   \n",
              "252                                          да удобно             0        0   \n",
              "347                                                 да             0        0   \n",
              "407                      да за 13 месяцев да или за 14             0        0   \n",
              "\n",
              "    manager_name     company_name  \n",
              "169     ангелина  диджитал бизнес  \n",
              "326          NaN              NaN  \n",
              "403    анастасия              NaN  \n",
              "173     ангелина  диджитал бизнес  \n",
              "15      ангелина  диджитал бизнес  \n",
              "239     ангелина  диджитал бизнес  \n",
              "387    анастасия              NaN  \n",
              "252       максим       китобизнес  \n",
              "347    анастасия              NaN  \n",
              "407    анастасия              NaN  "
            ]
          },
          "execution_count": 46,
          "metadata": {},
          "output_type": "execute_result"
        }
      ],
      "source": [
        "data.sample(10)"
      ]
    },
    {
      "cell_type": "markdown",
      "metadata": {
        "id": "dvRJI2MkfL0W"
      },
      "source": [
        " "
      ]
    },
    {
      "cell_type": "markdown",
      "metadata": {
        "id": "RYvO4VTtfL0W"
      },
      "source": [
        " "
      ]
    },
    {
      "cell_type": "markdown",
      "metadata": {
        "id": "gl8JkH9SfL0W"
      },
      "source": [
        "**e. Извлекать реплики, где менеджер попрощался.**"
      ]
    },
    {
      "cell_type": "markdown",
      "metadata": {
        "id": "kTeSSDz5fL0W"
      },
      "source": [
        "Также рассмотрим несколько вариантов. Все реплики будем добавлять в единый список."
      ]
    },
    {
      "cell_type": "code",
      "execution_count": null,
      "metadata": {
        "id": "FZmv_00vfL0W"
      },
      "outputs": [],
      "source": [
        "reg_exprs_far = [(r'\\w+о+\\s+свидания', 'До свидания'), (r'\\w+сего+\\s+\\хорошего', 'Всего хорошего'), (r'\\w+сего+\\s+\\доброго', 'Всего доброго'),\n",
        "                (r'\\w+пока', 'Пока'), (r'\\до связи', 'До связи'), (r'\\дo+\\s+\\завтра', 'До завтра'), (r'\\д\\w+\\s+\\понедельник\\w+', 'До понедельника'), \n",
        "                (r'\\до+\\s+\\вторник\\w+', 'До вторника'), (r'\\до+\\s+\\сред\\w+', 'До среды'), (r'\\до+\\s+\\четверг\\w+', 'До четверга'), \n",
        "                (r'\\до+\\s+\\пятниц\\w+', 'До пятницы'), (r'\\до+\\s+\\суббот\\w+', 'До субботы'), (r'\\д\\w+\\s+\\воскресен\\w+', 'До воскресенья'),\n",
        "                (r'хорошего+\\s+\\вечера', 'Хорошего вечера'), (r'\\w+орошего+\\s+\\дня', 'Хорошего дня')]\n",
        "\n",
        "def farewell_search(reg_expr, number_list):\n",
        "    '''\n",
        "    Принимает на вход регулярное выражение и список с индексами строк, \n",
        "    ищет новые строки, соответсвующие регулярному выражению,\n",
        "    считает количество вхождений,\n",
        "    возвращает дополненный список с индексами, если новые строки нашлись по условию.\n",
        "    '''\n",
        "    \n",
        "    # компилируем регулярное выражение\n",
        "    reg_expr_compiled = re.compile(reg_expr[0])\n",
        "    count = 0\n",
        "    \n",
        "    print('Ищем прощание: ', reg_expr[1])\n",
        "    print()\n",
        "    \n",
        "    # применяем выражение к тексту\n",
        "    for i, raw_text in enumerate(data_manager.text.values):\n",
        "        for g in reg_expr_compiled.findall(raw_text):\n",
        "            print(g)\n",
        "            ind = data_manager.index.values[i]\n",
        "            number_list.append(ind)\n",
        "            count += 1\n",
        "            \n",
        "    print()\n",
        "    if count > 0:\n",
        "        print(f'Нашлось {count} реплик(и/а) менеджеров с таким прощанием.')\n",
        "        print()\n",
        "        print()\n",
        "    else:\n",
        "        print('Таких варантов прощаний у менеджеров не нашлось.')\n",
        "        print()\n",
        "        print()\n",
        "    return number_list\n",
        "    \n",
        "    "
      ]
    },
    {
      "cell_type": "code",
      "execution_count": null,
      "metadata": {
        "id": "XS5A1t32fL0X",
        "outputId": "b3f983cf-a07a-4f8b-af2b-0ea43964ab26"
      },
      "outputs": [
        {
          "name": "stdout",
          "output_type": "stream",
          "text": [
            "Ищем прощание:  До свидания\n",
            "\n",
            "до свидания\n",
            "до свидания\n",
            "до свидания\n",
            "до свидания\n",
            "\n",
            "Нашлось 4 реплик(и/а) менеджеров с таким прощанием.\n",
            "\n",
            "\n",
            "Ищем прощание:  Всего хорошего\n",
            "\n",
            "всего хорошего\n",
            "всего хорошего\n",
            "\n",
            "Нашлось 2 реплик(и/а) менеджеров с таким прощанием.\n",
            "\n",
            "\n",
            "Ищем прощание:  Всего доброго\n",
            "\n",
            "всего доброго\n",
            "\n",
            "Нашлось 1 реплик(и/а) менеджеров с таким прощанием.\n",
            "\n",
            "\n",
            "Ищем прощание:  Пока\n",
            "\n",
            "\n",
            "Таких варантов прощаний у менеджеров не нашлось.\n",
            "\n",
            "\n",
            "Ищем прощание:  До связи\n",
            "\n",
            "\n",
            "Таких варантов прощаний у менеджеров не нашлось.\n",
            "\n",
            "\n",
            "Ищем прощание:  До завтра\n",
            "\n",
            "\n",
            "Таких варантов прощаний у менеджеров не нашлось.\n",
            "\n",
            "\n",
            "Ищем прощание:  До понедельника\n",
            "\n",
            "да понедельника\n",
            "\n",
            "Нашлось 1 реплик(и/а) менеджеров с таким прощанием.\n",
            "\n",
            "\n",
            "Ищем прощание:  До вторника\n",
            "\n",
            "до вторника\n",
            "\n",
            "Нашлось 1 реплик(и/а) менеджеров с таким прощанием.\n",
            "\n",
            "\n",
            "Ищем прощание:  До среды\n",
            "\n",
            "\n",
            "Таких варантов прощаний у менеджеров не нашлось.\n",
            "\n",
            "\n",
            "Ищем прощание:  До четверга\n",
            "\n",
            "\n",
            "Таких варантов прощаний у менеджеров не нашлось.\n",
            "\n",
            "\n",
            "Ищем прощание:  До пятницы\n",
            "\n",
            "\n",
            "Таких варантов прощаний у менеджеров не нашлось.\n",
            "\n",
            "\n",
            "Ищем прощание:  До субботы\n",
            "\n",
            "\n",
            "Таких варантов прощаний у менеджеров не нашлось.\n",
            "\n",
            "\n",
            "Ищем прощание:  До воскресенья\n",
            "\n",
            "\n",
            "Таких варантов прощаний у менеджеров не нашлось.\n",
            "\n",
            "\n",
            "Ищем прощание:  Хорошего вечера\n",
            "\n",
            "хорошего вечера\n",
            "\n",
            "Нашлось 1 реплик(и/а) менеджеров с таким прощанием.\n",
            "\n",
            "\n",
            "Ищем прощание:  Хорошего дня\n",
            "\n",
            "\n",
            "Таких варантов прощаний у менеджеров не нашлось.\n",
            "\n",
            "\n"
          ]
        }
      ],
      "source": [
        "number_list = []\n",
        "\n",
        "for expr in reg_exprs_far:\n",
        "    farewell_search(expr, number_list)"
      ]
    },
    {
      "cell_type": "code",
      "execution_count": null,
      "metadata": {
        "id": "kNkplax4fL0X"
      },
      "outputs": [],
      "source": [
        "# Уберем дублирубщиеся индексы\n",
        "\n",
        "number_list = list(set(number_list))"
      ]
    },
    {
      "cell_type": "code",
      "execution_count": null,
      "metadata": {
        "id": "q81zOpk7fL0X",
        "outputId": "87eb12c2-cc39-4c3c-da1f-2ced7e8b15c3"
      },
      "outputs": [
        {
          "data": {
            "text/plain": [
              "[162, 163, 108, 300, 335, 479]"
            ]
          },
          "execution_count": 50,
          "metadata": {},
          "output_type": "execute_result"
        }
      ],
      "source": [
        "number_list"
      ]
    },
    {
      "cell_type": "markdown",
      "metadata": {
        "id": "FeGXbaXwfL0X"
      },
      "source": [
        "Добавим в исходный датафрейм столбец-флаг с прощанием. "
      ]
    },
    {
      "cell_type": "code",
      "execution_count": null,
      "metadata": {
        "id": "TZ48_PW8fL0X"
      },
      "outputs": [],
      "source": [
        "index_dict = dict(zip(range(len(data)), [0]*len(data)))"
      ]
    },
    {
      "cell_type": "code",
      "execution_count": null,
      "metadata": {
        "id": "HnBGBYfofL0X"
      },
      "outputs": [],
      "source": [
        "for i in number_list:\n",
        "    index_dict[i] = 1"
      ]
    },
    {
      "cell_type": "code",
      "execution_count": null,
      "metadata": {
        "id": "NcVYr5DqfL0X"
      },
      "outputs": [],
      "source": [
        "data['is_farewell'] = list(index_dict.values())"
      ]
    },
    {
      "cell_type": "code",
      "execution_count": null,
      "metadata": {
        "id": "ZY6kp3ZrfL0Y",
        "outputId": "46c3ff0f-7f3d-49e3-ab5b-ca7a47b8c19f"
      },
      "outputs": [
        {
          "data": {
            "text/html": [
              "<div>\n",
              "<style scoped>\n",
              "    .dataframe tbody tr th:only-of-type {\n",
              "        vertical-align: middle;\n",
              "    }\n",
              "\n",
              "    .dataframe tbody tr th {\n",
              "        vertical-align: top;\n",
              "    }\n",
              "\n",
              "    .dataframe thead th {\n",
              "        text-align: right;\n",
              "    }\n",
              "</style>\n",
              "<table border=\"1\" class=\"dataframe\">\n",
              "  <thead>\n",
              "    <tr style=\"text-align: right;\">\n",
              "      <th></th>\n",
              "      <th>dlg_id</th>\n",
              "      <th>line_n</th>\n",
              "      <th>role</th>\n",
              "      <th>text</th>\n",
              "      <th>is_greetings</th>\n",
              "      <th>is_name</th>\n",
              "      <th>manager_name</th>\n",
              "      <th>company_name</th>\n",
              "      <th>is_farewell</th>\n",
              "    </tr>\n",
              "  </thead>\n",
              "  <tbody>\n",
              "    <tr>\n",
              "      <th>470</th>\n",
              "      <td>5</td>\n",
              "      <td>133</td>\n",
              "      <td>manager</td>\n",
              "      <td>4 9 2 9</td>\n",
              "      <td>0</td>\n",
              "      <td>0</td>\n",
              "      <td>анастасия</td>\n",
              "      <td>NaN</td>\n",
              "      <td>0</td>\n",
              "    </tr>\n",
              "    <tr>\n",
              "      <th>471</th>\n",
              "      <td>5</td>\n",
              "      <td>134</td>\n",
              "      <td>manager</td>\n",
              "      <td>9 9 7 7</td>\n",
              "      <td>0</td>\n",
              "      <td>0</td>\n",
              "      <td>анастасия</td>\n",
              "      <td>NaN</td>\n",
              "      <td>0</td>\n",
              "    </tr>\n",
              "    <tr>\n",
              "      <th>472</th>\n",
              "      <td>5</td>\n",
              "      <td>135</td>\n",
              "      <td>manager</td>\n",
              "      <td>так дмитрий</td>\n",
              "      <td>0</td>\n",
              "      <td>0</td>\n",
              "      <td>анастасия</td>\n",
              "      <td>NaN</td>\n",
              "      <td>0</td>\n",
              "    </tr>\n",
              "    <tr>\n",
              "      <th>473</th>\n",
              "      <td>5</td>\n",
              "      <td>136</td>\n",
              "      <td>manager</td>\n",
              "      <td>все записала тогда завтра ждите звонка</td>\n",
              "      <td>0</td>\n",
              "      <td>0</td>\n",
              "      <td>анастасия</td>\n",
              "      <td>NaN</td>\n",
              "      <td>0</td>\n",
              "    </tr>\n",
              "    <tr>\n",
              "      <th>474</th>\n",
              "      <td>5</td>\n",
              "      <td>137</td>\n",
              "      <td>client</td>\n",
              "      <td>да хорошо</td>\n",
              "      <td>0</td>\n",
              "      <td>0</td>\n",
              "      <td>анастасия</td>\n",
              "      <td>NaN</td>\n",
              "      <td>0</td>\n",
              "    </tr>\n",
              "    <tr>\n",
              "      <th>475</th>\n",
              "      <td>5</td>\n",
              "      <td>138</td>\n",
              "      <td>manager</td>\n",
              "      <td>по поводу виджетов и с ними уже обсудите конкр...</td>\n",
              "      <td>0</td>\n",
              "      <td>0</td>\n",
              "      <td>анастасия</td>\n",
              "      <td>NaN</td>\n",
              "      <td>0</td>\n",
              "    </tr>\n",
              "    <tr>\n",
              "      <th>476</th>\n",
              "      <td>5</td>\n",
              "      <td>139</td>\n",
              "      <td>manager</td>\n",
              "      <td>все я вам высылаю счет и с вами на связи если ...</td>\n",
              "      <td>0</td>\n",
              "      <td>0</td>\n",
              "      <td>анастасия</td>\n",
              "      <td>NaN</td>\n",
              "      <td>0</td>\n",
              "    </tr>\n",
              "    <tr>\n",
              "      <th>477</th>\n",
              "      <td>5</td>\n",
              "      <td>140</td>\n",
              "      <td>client</td>\n",
              "      <td>спасибо спасибо</td>\n",
              "      <td>0</td>\n",
              "      <td>0</td>\n",
              "      <td>анастасия</td>\n",
              "      <td>NaN</td>\n",
              "      <td>0</td>\n",
              "    </tr>\n",
              "    <tr>\n",
              "      <th>478</th>\n",
              "      <td>5</td>\n",
              "      <td>141</td>\n",
              "      <td>client</td>\n",
              "      <td>да да тогда созвонимся ага спасибо вам давайте</td>\n",
              "      <td>0</td>\n",
              "      <td>0</td>\n",
              "      <td>анастасия</td>\n",
              "      <td>NaN</td>\n",
              "      <td>0</td>\n",
              "    </tr>\n",
              "    <tr>\n",
              "      <th>479</th>\n",
              "      <td>5</td>\n",
              "      <td>142</td>\n",
              "      <td>manager</td>\n",
              "      <td>ну до свидания хорошего вечера</td>\n",
              "      <td>0</td>\n",
              "      <td>0</td>\n",
              "      <td>анастасия</td>\n",
              "      <td>NaN</td>\n",
              "      <td>1</td>\n",
              "    </tr>\n",
              "  </tbody>\n",
              "</table>\n",
              "</div>"
            ],
            "text/plain": [
              "     dlg_id  line_n     role  \\\n",
              "470       5     133  manager   \n",
              "471       5     134  manager   \n",
              "472       5     135  manager   \n",
              "473       5     136  manager   \n",
              "474       5     137   client   \n",
              "475       5     138  manager   \n",
              "476       5     139  manager   \n",
              "477       5     140   client   \n",
              "478       5     141   client   \n",
              "479       5     142  manager   \n",
              "\n",
              "                                                  text  is_greetings  is_name  \\\n",
              "470                                            4 9 2 9             0        0   \n",
              "471                                            9 9 7 7             0        0   \n",
              "472                                        так дмитрий             0        0   \n",
              "473             все записала тогда завтра ждите звонка             0        0   \n",
              "474                                          да хорошо             0        0   \n",
              "475  по поводу виджетов и с ними уже обсудите конкр...             0        0   \n",
              "476  все я вам высылаю счет и с вами на связи если ...             0        0   \n",
              "477                                    спасибо спасибо             0        0   \n",
              "478     да да тогда созвонимся ага спасибо вам давайте             0        0   \n",
              "479                     ну до свидания хорошего вечера             0        0   \n",
              "\n",
              "    manager_name company_name  is_farewell  \n",
              "470    анастасия          NaN            0  \n",
              "471    анастасия          NaN            0  \n",
              "472    анастасия          NaN            0  \n",
              "473    анастасия          NaN            0  \n",
              "474    анастасия          NaN            0  \n",
              "475    анастасия          NaN            0  \n",
              "476    анастасия          NaN            0  \n",
              "477    анастасия          NaN            0  \n",
              "478    анастасия          NaN            0  \n",
              "479    анастасия          NaN            1  "
            ]
          },
          "execution_count": 54,
          "metadata": {},
          "output_type": "execute_result"
        }
      ],
      "source": [
        "data.tail(10)"
      ]
    },
    {
      "cell_type": "markdown",
      "metadata": {
        "id": "GI_Etd4RfL0Y"
      },
      "source": [
        " "
      ]
    },
    {
      "cell_type": "markdown",
      "metadata": {
        "id": "Q2_xBYcJfL0Y"
      },
      "source": [
        "**f. Проверять требование к менеджеру: «В каждом диалоге обязательно необходимо поздороваться и попрощаться с клиентом**"
      ]
    },
    {
      "cell_type": "markdown",
      "metadata": {
        "id": "o4xrP21vfL0Y"
      },
      "source": [
        "Будем извлекать каждый диалог и по флагам считать, сколько приветсвий и прощаний менеджера в нем есть. Если есть и то, и то, до диалогу присваивается единичка. "
      ]
    },
    {
      "cell_type": "code",
      "execution_count": null,
      "metadata": {
        "id": "xQcV38rRfL0Y"
      },
      "outputs": [],
      "source": [
        "requirement_dict = dict()"
      ]
    },
    {
      "cell_type": "code",
      "execution_count": null,
      "metadata": {
        "id": "u-UkTruVfL0Y"
      },
      "outputs": [],
      "source": [
        "for id in range(6):\n",
        "    dlg = data[data.dlg_id == id]\n",
        "    if dlg.is_greetings.values.sum() > 0:\n",
        "        if dlg.is_farewell.values.sum() > 0:\n",
        "            requirement_dict[id] = 1\n",
        "        else:\n",
        "            requirement_dict[id] = 0\n",
        "    else:\n",
        "        requirement_dict[id] = 0\n",
        "    "
      ]
    },
    {
      "cell_type": "code",
      "execution_count": null,
      "metadata": {
        "id": "j8rjt-nrfL0Y",
        "outputId": "1e44836e-346e-40f1-a643-9f3a406ca463"
      },
      "outputs": [
        {
          "data": {
            "text/plain": [
              "{0: 1, 1: 1, 2: 0, 3: 1, 4: 0, 5: 0}"
            ]
          },
          "execution_count": 57,
          "metadata": {},
          "output_type": "execute_result"
        }
      ],
      "source": [
        "requirement_dict"
      ]
    },
    {
      "cell_type": "markdown",
      "metadata": {
        "id": "9d20scl9fL0Y"
      },
      "source": [
        "Создадим соответсвующий столбец в исходном датасете."
      ]
    },
    {
      "cell_type": "code",
      "execution_count": null,
      "metadata": {
        "id": "0HQO4qNHfL0Z"
      },
      "outputs": [],
      "source": [
        "data['greet_far_requirement'] = data.dlg_id.map(requirement_dict)"
      ]
    },
    {
      "cell_type": "code",
      "execution_count": null,
      "metadata": {
        "id": "OF2r4DF5fL0Z",
        "outputId": "17ca4ddb-4e1e-421c-f2b7-368f0ecfb422"
      },
      "outputs": [
        {
          "data": {
            "text/html": [
              "<div>\n",
              "<style scoped>\n",
              "    .dataframe tbody tr th:only-of-type {\n",
              "        vertical-align: middle;\n",
              "    }\n",
              "\n",
              "    .dataframe tbody tr th {\n",
              "        vertical-align: top;\n",
              "    }\n",
              "\n",
              "    .dataframe thead th {\n",
              "        text-align: right;\n",
              "    }\n",
              "</style>\n",
              "<table border=\"1\" class=\"dataframe\">\n",
              "  <thead>\n",
              "    <tr style=\"text-align: right;\">\n",
              "      <th></th>\n",
              "      <th>dlg_id</th>\n",
              "      <th>line_n</th>\n",
              "      <th>role</th>\n",
              "      <th>text</th>\n",
              "      <th>is_greetings</th>\n",
              "      <th>is_name</th>\n",
              "      <th>manager_name</th>\n",
              "      <th>company_name</th>\n",
              "      <th>is_farewell</th>\n",
              "      <th>greet_far_requirement</th>\n",
              "    </tr>\n",
              "  </thead>\n",
              "  <tbody>\n",
              "    <tr>\n",
              "      <th>0</th>\n",
              "      <td>0</td>\n",
              "      <td>0</td>\n",
              "      <td>client</td>\n",
              "      <td>алло</td>\n",
              "      <td>0</td>\n",
              "      <td>0</td>\n",
              "      <td>ангелина</td>\n",
              "      <td>диджитал бизнес</td>\n",
              "      <td>0</td>\n",
              "      <td>1</td>\n",
              "    </tr>\n",
              "    <tr>\n",
              "      <th>1</th>\n",
              "      <td>0</td>\n",
              "      <td>1</td>\n",
              "      <td>manager</td>\n",
              "      <td>алло здравствуйте</td>\n",
              "      <td>1</td>\n",
              "      <td>0</td>\n",
              "      <td>ангелина</td>\n",
              "      <td>диджитал бизнес</td>\n",
              "      <td>0</td>\n",
              "      <td>1</td>\n",
              "    </tr>\n",
              "    <tr>\n",
              "      <th>2</th>\n",
              "      <td>0</td>\n",
              "      <td>2</td>\n",
              "      <td>client</td>\n",
              "      <td>добрый день</td>\n",
              "      <td>0</td>\n",
              "      <td>0</td>\n",
              "      <td>ангелина</td>\n",
              "      <td>диджитал бизнес</td>\n",
              "      <td>0</td>\n",
              "      <td>1</td>\n",
              "    </tr>\n",
              "    <tr>\n",
              "      <th>3</th>\n",
              "      <td>0</td>\n",
              "      <td>3</td>\n",
              "      <td>manager</td>\n",
              "      <td>меня зовут ангелина компания диджитал бизнес з...</td>\n",
              "      <td>0</td>\n",
              "      <td>1</td>\n",
              "      <td>ангелина</td>\n",
              "      <td>диджитал бизнес</td>\n",
              "      <td>0</td>\n",
              "      <td>1</td>\n",
              "    </tr>\n",
              "    <tr>\n",
              "      <th>4</th>\n",
              "      <td>0</td>\n",
              "      <td>4</td>\n",
              "      <td>client</td>\n",
              "      <td>ага</td>\n",
              "      <td>0</td>\n",
              "      <td>0</td>\n",
              "      <td>ангелина</td>\n",
              "      <td>диджитал бизнес</td>\n",
              "      <td>0</td>\n",
              "      <td>1</td>\n",
              "    </tr>\n",
              "    <tr>\n",
              "      <th>...</th>\n",
              "      <td>...</td>\n",
              "      <td>...</td>\n",
              "      <td>...</td>\n",
              "      <td>...</td>\n",
              "      <td>...</td>\n",
              "      <td>...</td>\n",
              "      <td>...</td>\n",
              "      <td>...</td>\n",
              "      <td>...</td>\n",
              "      <td>...</td>\n",
              "    </tr>\n",
              "    <tr>\n",
              "      <th>475</th>\n",
              "      <td>5</td>\n",
              "      <td>138</td>\n",
              "      <td>manager</td>\n",
              "      <td>по поводу виджетов и с ними уже обсудите конкр...</td>\n",
              "      <td>0</td>\n",
              "      <td>0</td>\n",
              "      <td>анастасия</td>\n",
              "      <td>NaN</td>\n",
              "      <td>0</td>\n",
              "      <td>0</td>\n",
              "    </tr>\n",
              "    <tr>\n",
              "      <th>476</th>\n",
              "      <td>5</td>\n",
              "      <td>139</td>\n",
              "      <td>manager</td>\n",
              "      <td>все я вам высылаю счет и с вами на связи если ...</td>\n",
              "      <td>0</td>\n",
              "      <td>0</td>\n",
              "      <td>анастасия</td>\n",
              "      <td>NaN</td>\n",
              "      <td>0</td>\n",
              "      <td>0</td>\n",
              "    </tr>\n",
              "    <tr>\n",
              "      <th>477</th>\n",
              "      <td>5</td>\n",
              "      <td>140</td>\n",
              "      <td>client</td>\n",
              "      <td>спасибо спасибо</td>\n",
              "      <td>0</td>\n",
              "      <td>0</td>\n",
              "      <td>анастасия</td>\n",
              "      <td>NaN</td>\n",
              "      <td>0</td>\n",
              "      <td>0</td>\n",
              "    </tr>\n",
              "    <tr>\n",
              "      <th>478</th>\n",
              "      <td>5</td>\n",
              "      <td>141</td>\n",
              "      <td>client</td>\n",
              "      <td>да да тогда созвонимся ага спасибо вам давайте</td>\n",
              "      <td>0</td>\n",
              "      <td>0</td>\n",
              "      <td>анастасия</td>\n",
              "      <td>NaN</td>\n",
              "      <td>0</td>\n",
              "      <td>0</td>\n",
              "    </tr>\n",
              "    <tr>\n",
              "      <th>479</th>\n",
              "      <td>5</td>\n",
              "      <td>142</td>\n",
              "      <td>manager</td>\n",
              "      <td>ну до свидания хорошего вечера</td>\n",
              "      <td>0</td>\n",
              "      <td>0</td>\n",
              "      <td>анастасия</td>\n",
              "      <td>NaN</td>\n",
              "      <td>1</td>\n",
              "      <td>0</td>\n",
              "    </tr>\n",
              "  </tbody>\n",
              "</table>\n",
              "<p>480 rows × 10 columns</p>\n",
              "</div>"
            ],
            "text/plain": [
              "     dlg_id  line_n     role  \\\n",
              "0         0       0   client   \n",
              "1         0       1  manager   \n",
              "2         0       2   client   \n",
              "3         0       3  manager   \n",
              "4         0       4   client   \n",
              "..      ...     ...      ...   \n",
              "475       5     138  manager   \n",
              "476       5     139  manager   \n",
              "477       5     140   client   \n",
              "478       5     141   client   \n",
              "479       5     142  manager   \n",
              "\n",
              "                                                  text  is_greetings  is_name  \\\n",
              "0                                                 алло             0        0   \n",
              "1                                    алло здравствуйте             1        0   \n",
              "2                                          добрый день             0        0   \n",
              "3    меня зовут ангелина компания диджитал бизнес з...             0        1   \n",
              "4                                                  ага             0        0   \n",
              "..                                                 ...           ...      ...   \n",
              "475  по поводу виджетов и с ними уже обсудите конкр...             0        0   \n",
              "476  все я вам высылаю счет и с вами на связи если ...             0        0   \n",
              "477                                    спасибо спасибо             0        0   \n",
              "478     да да тогда созвонимся ага спасибо вам давайте             0        0   \n",
              "479                     ну до свидания хорошего вечера             0        0   \n",
              "\n",
              "    manager_name     company_name  is_farewell  greet_far_requirement  \n",
              "0       ангелина  диджитал бизнес            0                      1  \n",
              "1       ангелина  диджитал бизнес            0                      1  \n",
              "2       ангелина  диджитал бизнес            0                      1  \n",
              "3       ангелина  диджитал бизнес            0                      1  \n",
              "4       ангелина  диджитал бизнес            0                      1  \n",
              "..           ...              ...          ...                    ...  \n",
              "475    анастасия              NaN            0                      0  \n",
              "476    анастасия              NaN            0                      0  \n",
              "477    анастасия              NaN            0                      0  \n",
              "478    анастасия              NaN            0                      0  \n",
              "479    анастасия              NaN            1                      0  \n",
              "\n",
              "[480 rows x 10 columns]"
            ]
          },
          "execution_count": 59,
          "metadata": {},
          "output_type": "execute_result"
        }
      ],
      "source": [
        "data"
      ]
    },
    {
      "cell_type": "markdown",
      "metadata": {
        "id": "aJj-_cMhfL0Z"
      },
      "source": [
        " "
      ]
    },
    {
      "cell_type": "markdown",
      "metadata": {
        "id": "izh92pgAfL0Z"
      },
      "source": [
        " "
      ]
    },
    {
      "cell_type": "markdown",
      "metadata": {
        "id": "vBMJib5NfL0Z"
      },
      "source": [
        "# Часть 2"
      ]
    },
    {
      "cell_type": "markdown",
      "metadata": {
        "id": "A-0W5pBffL0Z"
      },
      "source": [
        "Попробуем поэкспериментировать с данными. Это личная инициатива, может быть, Вам будет интересно."
      ]
    },
    {
      "cell_type": "markdown",
      "metadata": {
        "id": "H2IFbomYfL0Z"
      },
      "source": [
        "Попробуем решить задачу бинарной классификации для какого-нибудб столбца-флага, например, с наличием приветствия is_greetings."
      ]
    },
    {
      "cell_type": "markdown",
      "metadata": {
        "id": "RNkOEQA8fL0Z"
      },
      "source": [
        "Для начала выберем подходящую информацию из датафрейма."
      ]
    },
    {
      "cell_type": "code",
      "execution_count": null,
      "metadata": {
        "id": "k1pqsX7ZfL0a"
      },
      "outputs": [],
      "source": [
        "df_class = data[data.role == 'manager']"
      ]
    },
    {
      "cell_type": "code",
      "execution_count": null,
      "metadata": {
        "id": "gnrXALOvfL0a"
      },
      "outputs": [],
      "source": [
        "df_class = df_class[['dlg_id', 'text', 'is_greetings']]"
      ]
    },
    {
      "cell_type": "code",
      "execution_count": null,
      "metadata": {
        "id": "92u-HBh3fL0a",
        "outputId": "7d986939-3c4f-4a3e-9c0d-d57bdbd8e9e2"
      },
      "outputs": [
        {
          "data": {
            "text/html": [
              "<div>\n",
              "<style scoped>\n",
              "    .dataframe tbody tr th:only-of-type {\n",
              "        vertical-align: middle;\n",
              "    }\n",
              "\n",
              "    .dataframe tbody tr th {\n",
              "        vertical-align: top;\n",
              "    }\n",
              "\n",
              "    .dataframe thead th {\n",
              "        text-align: right;\n",
              "    }\n",
              "</style>\n",
              "<table border=\"1\" class=\"dataframe\">\n",
              "  <thead>\n",
              "    <tr style=\"text-align: right;\">\n",
              "      <th></th>\n",
              "      <th>dlg_id</th>\n",
              "      <th>text</th>\n",
              "      <th>is_greetings</th>\n",
              "    </tr>\n",
              "  </thead>\n",
              "  <tbody>\n",
              "    <tr>\n",
              "      <th>1</th>\n",
              "      <td>0</td>\n",
              "      <td>алло здравствуйте</td>\n",
              "      <td>1</td>\n",
              "    </tr>\n",
              "    <tr>\n",
              "      <th>3</th>\n",
              "      <td>0</td>\n",
              "      <td>меня зовут ангелина компания диджитал бизнес з...</td>\n",
              "      <td>0</td>\n",
              "    </tr>\n",
              "    <tr>\n",
              "      <th>5</th>\n",
              "      <td>0</td>\n",
              "      <td>угу ну возможно вы рассмотрите и другие вариан...</td>\n",
              "      <td>0</td>\n",
              "    </tr>\n",
              "    <tr>\n",
              "      <th>8</th>\n",
              "      <td>0</td>\n",
              "      <td>угу а на что вы обращаете внимание при выборе</td>\n",
              "      <td>0</td>\n",
              "    </tr>\n",
              "    <tr>\n",
              "      <th>11</th>\n",
              "      <td>0</td>\n",
              "      <td>что для вас приоритет</td>\n",
              "      <td>0</td>\n",
              "    </tr>\n",
              "    <tr>\n",
              "      <th>...</th>\n",
              "      <td>...</td>\n",
              "      <td>...</td>\n",
              "      <td>...</td>\n",
              "    </tr>\n",
              "    <tr>\n",
              "      <th>472</th>\n",
              "      <td>5</td>\n",
              "      <td>так дмитрий</td>\n",
              "      <td>0</td>\n",
              "    </tr>\n",
              "    <tr>\n",
              "      <th>473</th>\n",
              "      <td>5</td>\n",
              "      <td>все записала тогда завтра ждите звонка</td>\n",
              "      <td>0</td>\n",
              "    </tr>\n",
              "    <tr>\n",
              "      <th>475</th>\n",
              "      <td>5</td>\n",
              "      <td>по поводу виджетов и с ними уже обсудите конкр...</td>\n",
              "      <td>0</td>\n",
              "    </tr>\n",
              "    <tr>\n",
              "      <th>476</th>\n",
              "      <td>5</td>\n",
              "      <td>все я вам высылаю счет и с вами на связи если ...</td>\n",
              "      <td>0</td>\n",
              "    </tr>\n",
              "    <tr>\n",
              "      <th>479</th>\n",
              "      <td>5</td>\n",
              "      <td>ну до свидания хорошего вечера</td>\n",
              "      <td>0</td>\n",
              "    </tr>\n",
              "  </tbody>\n",
              "</table>\n",
              "<p>201 rows × 3 columns</p>\n",
              "</div>"
            ],
            "text/plain": [
              "     dlg_id                                               text  is_greetings\n",
              "1         0                                  алло здравствуйте             1\n",
              "3         0  меня зовут ангелина компания диджитал бизнес з...             0\n",
              "5         0  угу ну возможно вы рассмотрите и другие вариан...             0\n",
              "8         0      угу а на что вы обращаете внимание при выборе             0\n",
              "11        0                              что для вас приоритет             0\n",
              "..      ...                                                ...           ...\n",
              "472       5                                        так дмитрий             0\n",
              "473       5             все записала тогда завтра ждите звонка             0\n",
              "475       5  по поводу виджетов и с ними уже обсудите конкр...             0\n",
              "476       5  все я вам высылаю счет и с вами на связи если ...             0\n",
              "479       5                     ну до свидания хорошего вечера             0\n",
              "\n",
              "[201 rows x 3 columns]"
            ]
          },
          "execution_count": 62,
          "metadata": {},
          "output_type": "execute_result"
        }
      ],
      "source": [
        "df_class"
      ]
    },
    {
      "cell_type": "markdown",
      "metadata": {
        "id": "bVvd_J3FfL0a"
      },
      "source": [
        "Посмотрим на баланс классов."
      ]
    },
    {
      "cell_type": "code",
      "execution_count": null,
      "metadata": {
        "id": "DoI9ZumSfL0a",
        "outputId": "180ee41d-b2ce-4480-9383-575183a83137"
      },
      "outputs": [
        {
          "data": {
            "image/png": "[encoded data removed]",
            "text/plain": [
              "<Figure size 432x432 with 1 Axes>"
            ]
          },
          "metadata": {},
          "output_type": "display_data"
        }
      ],
      "source": [
        "plt.figure(figsize=(6, 6))\n",
        "df_class.is_greetings.value_counts(normalize = True).plot(kind = 'pie', autopct='%1.1f%%')\n",
        "plt.title('Class balance')\n",
        "plt.legend()\n",
        "plt.show()"
      ]
    },
    {
      "cell_type": "markdown",
      "metadata": {
        "id": "oFP904OcfL0a"
      },
      "source": [
        "Подготовим функцию для очистки текста."
      ]
    },
    {
      "cell_type": "code",
      "execution_count": null,
      "metadata": {
        "id": "HAN2WMqifL0a"
      },
      "outputs": [],
      "source": [
        "def clear_text(text):\n",
        "    text = re.sub(r'[^а-яА-Я \\']', ' ', text).split()\n",
        "    return ' '.join(text)"
      ]
    },
    {
      "cell_type": "markdown",
      "metadata": {
        "id": "zfXIiR8RfL0a"
      },
      "source": [
        "Применим ее и создадим новый столбец clear_text с очищенным текстом."
      ]
    },
    {
      "cell_type": "code",
      "execution_count": null,
      "metadata": {
        "id": "KoFw8uHPfL0b",
        "outputId": "b4121fa8-6a50-4e8f-c5c9-295d84c4f74a"
      },
      "outputs": [
        {
          "name": "stdout",
          "output_type": "stream",
          "text": [
            "Wall time: 2 ms\n"
          ]
        }
      ],
      "source": [
        "%%time\n",
        "\n",
        "df_class['clear_text'] = df_class['text'].apply(clear_text)"
      ]
    },
    {
      "cell_type": "code",
      "execution_count": null,
      "metadata": {
        "id": "yBDoDz2pfL0b",
        "outputId": "0b168a0f-1f67-435f-f765-9d7ae838e714"
      },
      "outputs": [
        {
          "data": {
            "text/html": [
              "<div>\n",
              "<style scoped>\n",
              "    .dataframe tbody tr th:only-of-type {\n",
              "        vertical-align: middle;\n",
              "    }\n",
              "\n",
              "    .dataframe tbody tr th {\n",
              "        vertical-align: top;\n",
              "    }\n",
              "\n",
              "    .dataframe thead th {\n",
              "        text-align: right;\n",
              "    }\n",
              "</style>\n",
              "<table border=\"1\" class=\"dataframe\">\n",
              "  <thead>\n",
              "    <tr style=\"text-align: right;\">\n",
              "      <th></th>\n",
              "      <th>dlg_id</th>\n",
              "      <th>text</th>\n",
              "      <th>is_greetings</th>\n",
              "      <th>clear_text</th>\n",
              "    </tr>\n",
              "  </thead>\n",
              "  <tbody>\n",
              "    <tr>\n",
              "      <th>1</th>\n",
              "      <td>0</td>\n",
              "      <td>алло здравствуйте</td>\n",
              "      <td>1</td>\n",
              "      <td>алло здравствуйте</td>\n",
              "    </tr>\n",
              "    <tr>\n",
              "      <th>3</th>\n",
              "      <td>0</td>\n",
              "      <td>меня зовут ангелина компания диджитал бизнес з...</td>\n",
              "      <td>0</td>\n",
              "      <td>меня зовут ангелина компания диджитал бизнес з...</td>\n",
              "    </tr>\n",
              "    <tr>\n",
              "      <th>5</th>\n",
              "      <td>0</td>\n",
              "      <td>угу ну возможно вы рассмотрите и другие вариан...</td>\n",
              "      <td>0</td>\n",
              "      <td>угу ну возможно вы рассмотрите и другие вариан...</td>\n",
              "    </tr>\n",
              "    <tr>\n",
              "      <th>8</th>\n",
              "      <td>0</td>\n",
              "      <td>угу а на что вы обращаете внимание при выборе</td>\n",
              "      <td>0</td>\n",
              "      <td>угу а на что вы обращаете внимание при выборе</td>\n",
              "    </tr>\n",
              "    <tr>\n",
              "      <th>11</th>\n",
              "      <td>0</td>\n",
              "      <td>что для вас приоритет</td>\n",
              "      <td>0</td>\n",
              "      <td>что для вас приоритет</td>\n",
              "    </tr>\n",
              "  </tbody>\n",
              "</table>\n",
              "</div>"
            ],
            "text/plain": [
              "    dlg_id                                               text  is_greetings  \\\n",
              "1        0                                  алло здравствуйте             1   \n",
              "3        0  меня зовут ангелина компания диджитал бизнес з...             0   \n",
              "5        0  угу ну возможно вы рассмотрите и другие вариан...             0   \n",
              "8        0      угу а на что вы обращаете внимание при выборе             0   \n",
              "11       0                              что для вас приоритет             0   \n",
              "\n",
              "                                           clear_text  \n",
              "1                                   алло здравствуйте  \n",
              "3   меня зовут ангелина компания диджитал бизнес з...  \n",
              "5   угу ну возможно вы рассмотрите и другие вариан...  \n",
              "8       угу а на что вы обращаете внимание при выборе  \n",
              "11                              что для вас приоритет  "
            ]
          },
          "execution_count": 66,
          "metadata": {},
          "output_type": "execute_result"
        }
      ],
      "source": [
        "df_class.head()"
      ]
    },
    {
      "cell_type": "markdown",
      "metadata": {
        "id": "zeyIkS_FfL0b"
      },
      "source": [
        "Далее мы приведем все слова к начальной форме. Так как мы работаем с русским языком, то нам подойдет библиотека pymorphy2."
      ]
    },
    {
      "cell_type": "code",
      "execution_count": null,
      "metadata": {
        "id": "mxcsUJiSfL0b"
      },
      "outputs": [],
      "source": [
        "morph = pymorphy2.MorphAnalyzer()"
      ]
    },
    {
      "cell_type": "markdown",
      "metadata": {
        "id": "p2-aa6xOfL0b"
      },
      "source": [
        "Создаем новый столбец lemm_text, содердащий слова в начальной форме."
      ]
    },
    {
      "cell_type": "code",
      "execution_count": null,
      "metadata": {
        "id": "-rx9nDjgfL0b",
        "outputId": "219a52fa-b90c-4759-f432-2279a0d8c02f"
      },
      "outputs": [
        {
          "name": "stdout",
          "output_type": "stream",
          "text": [
            "Wall time: 448 ms\n"
          ]
        }
      ],
      "source": [
        "%%time\n",
        "df_class['lemm_text'] = df_class['clear_text'].apply(lambda sentence: \" \".join([morph.parse(word)[0].normal_form for word in sentence.split()]))"
      ]
    },
    {
      "cell_type": "code",
      "execution_count": null,
      "metadata": {
        "id": "bRQB3eU1fL0b",
        "outputId": "49b4b50d-d695-4db8-fa1f-6da4b83921b0"
      },
      "outputs": [
        {
          "data": {
            "text/html": [
              "<div>\n",
              "<style scoped>\n",
              "    .dataframe tbody tr th:only-of-type {\n",
              "        vertical-align: middle;\n",
              "    }\n",
              "\n",
              "    .dataframe tbody tr th {\n",
              "        vertical-align: top;\n",
              "    }\n",
              "\n",
              "    .dataframe thead th {\n",
              "        text-align: right;\n",
              "    }\n",
              "</style>\n",
              "<table border=\"1\" class=\"dataframe\">\n",
              "  <thead>\n",
              "    <tr style=\"text-align: right;\">\n",
              "      <th></th>\n",
              "      <th>dlg_id</th>\n",
              "      <th>text</th>\n",
              "      <th>is_greetings</th>\n",
              "      <th>clear_text</th>\n",
              "      <th>lemm_text</th>\n",
              "    </tr>\n",
              "  </thead>\n",
              "  <tbody>\n",
              "    <tr>\n",
              "      <th>1</th>\n",
              "      <td>0</td>\n",
              "      <td>алло здравствуйте</td>\n",
              "      <td>1</td>\n",
              "      <td>алло здравствуйте</td>\n",
              "      <td>алло здравствуйте</td>\n",
              "    </tr>\n",
              "    <tr>\n",
              "      <th>3</th>\n",
              "      <td>0</td>\n",
              "      <td>меня зовут ангелина компания диджитал бизнес з...</td>\n",
              "      <td>0</td>\n",
              "      <td>меня зовут ангелина компания диджитал бизнес з...</td>\n",
              "      <td>я звать ангелина компания диджитал бизнес звон...</td>\n",
              "    </tr>\n",
              "    <tr>\n",
              "      <th>5</th>\n",
              "      <td>0</td>\n",
              "      <td>угу ну возможно вы рассмотрите и другие вариан...</td>\n",
              "      <td>0</td>\n",
              "      <td>угу ну возможно вы рассмотрите и другие вариан...</td>\n",
              "      <td>угу ну возможно вы рассмотреть и другой вариан...</td>\n",
              "    </tr>\n",
              "    <tr>\n",
              "      <th>8</th>\n",
              "      <td>0</td>\n",
              "      <td>угу а на что вы обращаете внимание при выборе</td>\n",
              "      <td>0</td>\n",
              "      <td>угу а на что вы обращаете внимание при выборе</td>\n",
              "      <td>угу а на что вы обращать внимание при выбор</td>\n",
              "    </tr>\n",
              "    <tr>\n",
              "      <th>11</th>\n",
              "      <td>0</td>\n",
              "      <td>что для вас приоритет</td>\n",
              "      <td>0</td>\n",
              "      <td>что для вас приоритет</td>\n",
              "      <td>что для вы приоритет</td>\n",
              "    </tr>\n",
              "  </tbody>\n",
              "</table>\n",
              "</div>"
            ],
            "text/plain": [
              "    dlg_id                                               text  is_greetings  \\\n",
              "1        0                                  алло здравствуйте             1   \n",
              "3        0  меня зовут ангелина компания диджитал бизнес з...             0   \n",
              "5        0  угу ну возможно вы рассмотрите и другие вариан...             0   \n",
              "8        0      угу а на что вы обращаете внимание при выборе             0   \n",
              "11       0                              что для вас приоритет             0   \n",
              "\n",
              "                                           clear_text  \\\n",
              "1                                   алло здравствуйте   \n",
              "3   меня зовут ангелина компания диджитал бизнес з...   \n",
              "5   угу ну возможно вы рассмотрите и другие вариан...   \n",
              "8       угу а на что вы обращаете внимание при выборе   \n",
              "11                              что для вас приоритет   \n",
              "\n",
              "                                            lemm_text  \n",
              "1                                   алло здравствуйте  \n",
              "3   я звать ангелина компания диджитал бизнес звон...  \n",
              "5   угу ну возможно вы рассмотреть и другой вариан...  \n",
              "8         угу а на что вы обращать внимание при выбор  \n",
              "11                               что для вы приоритет  "
            ]
          },
          "execution_count": 69,
          "metadata": {},
          "output_type": "execute_result"
        }
      ],
      "source": [
        "df_class.head()"
      ]
    },
    {
      "cell_type": "markdown",
      "metadata": {
        "id": "PLPRt1atfL0c"
      },
      "source": [
        "Далее произведем проверку с помощью облака слов, посмотрим, насколько хороша прошла лемматизация и какие слова наиболее часто встречаются."
      ]
    },
    {
      "cell_type": "code",
      "execution_count": null,
      "metadata": {
        "id": "9qFQzlzWfL0c"
      },
      "outputs": [],
      "source": [
        "words = ' '.join(df_class['lemm_text'])"
      ]
    },
    {
      "cell_type": "code",
      "execution_count": null,
      "metadata": {
        "id": "4uLwmBCufL0c"
      },
      "outputs": [],
      "source": [
        "cloud = WordCloud().generate(words)"
      ]
    },
    {
      "cell_type": "code",
      "execution_count": null,
      "metadata": {
        "id": "EhrKDoPAfL0c",
        "outputId": "aaca7e20-d12c-4961-e25c-79044910e1ce"
      },
      "outputs": [
        {
          "data": {
            "image/png": "[encoded data removed]",
            "text/plain": [
              "<Figure size 1080x720 with 1 Axes>"
            ]
          },
          "metadata": {
            "needs_background": "light"
          },
          "output_type": "display_data"
        }
      ],
      "source": [
        "plt.figure(figsize=(15, 10))\n",
        "plt.imshow(cloud)\n",
        "plt.axis('off')\n",
        "plt.show()"
      ]
    },
    {
      "cell_type": "markdown",
      "metadata": {
        "id": "f_kvYSuyfL0c"
      },
      "source": [
        "Все слова приведены к начальной форме. Много предлогов, но от большинства из них получится избавиться на этапе векторизации."
      ]
    },
    {
      "cell_type": "markdown",
      "metadata": {
        "id": "u08SOzwYfL0c"
      },
      "source": [
        "Определим целевую переменую и обучающую фичу."
      ]
    },
    {
      "cell_type": "code",
      "execution_count": null,
      "metadata": {
        "id": "6AC-4ae9fL0c"
      },
      "outputs": [],
      "source": [
        "target = df_class['is_greetings']\n",
        "features = df_class['lemm_text']"
      ]
    },
    {
      "cell_type": "code",
      "execution_count": null,
      "metadata": {
        "id": "4kTPDQwUfL0c",
        "outputId": "91daf6b3-ea97-4e1e-a1e2-036c5d88fa74"
      },
      "outputs": [
        {
          "name": "stderr",
          "output_type": "stream",
          "text": [
            "[nltk_data] Downloading package stopwords to\n",
            "[nltk_data]     C:\\Users\\Админ\\AppData\\Roaming\\nltk_data...\n",
            "[nltk_data]   Package stopwords is already up-to-date!\n"
          ]
        },
        {
          "data": {
            "text/plain": [
              "True"
            ]
          },
          "execution_count": 74,
          "metadata": {},
          "output_type": "execute_result"
        }
      ],
      "source": [
        "nltk.download('stopwords')"
      ]
    },
    {
      "cell_type": "markdown",
      "metadata": {
        "id": "8aq02SFqfL0d"
      },
      "source": [
        "Разобъем наш датафрейм на тренироввочную и тестовую в соотношении 80:20."
      ]
    },
    {
      "cell_type": "code",
      "execution_count": null,
      "metadata": {
        "id": "eAsbAJq_fL0d"
      },
      "outputs": [],
      "source": [
        "features_train, features_test, target_train, target_test = train_test_split(\n",
        "    features, target, test_size=0.2, random_state=42, stratify=target)"
      ]
    },
    {
      "cell_type": "markdown",
      "metadata": {
        "id": "bkK-EzzQfL0d"
      },
      "source": [
        "Уравновесим классы с помощью upsampling."
      ]
    },
    {
      "cell_type": "markdown",
      "metadata": {
        "id": "A0PlQqUnfL0d"
      },
      "source": [
        "Найдем значение параметра k."
      ]
    },
    {
      "cell_type": "code",
      "execution_count": null,
      "metadata": {
        "id": "qljF03ZcfL0d"
      },
      "outputs": [],
      "source": [
        "k = round(df_class.is_greetings.value_counts()[0] / df_class.is_greetings.value_counts()[1])"
      ]
    },
    {
      "cell_type": "code",
      "execution_count": null,
      "metadata": {
        "id": "Qhw7TwCrfL0d",
        "outputId": "aed6f3ef-a7b7-4069-8475-db49a9af23ce"
      },
      "outputs": [
        {
          "name": "stdout",
          "output_type": "stream",
          "text": [
            "k равно: 39\n"
          ]
        }
      ],
      "source": [
        "print(f'k равно: {k}')"
      ]
    },
    {
      "cell_type": "code",
      "execution_count": null,
      "metadata": {
        "id": "m_OSJ5z2fL0d",
        "outputId": "d4acdb9a-5e4b-4812-ac0a-517c7bf225be"
      },
      "outputs": [
        {
          "name": "stdout",
          "output_type": "stream",
          "text": [
            "(312,)\n",
            "(312,)\n"
          ]
        }
      ],
      "source": [
        "def upsample(features, target, repeat):\n",
        "    \n",
        "    features_zeros = features[target == 0]\n",
        "    features_ones = features[target == 1]\n",
        "    target_zeros = target[target == 0]\n",
        "    target_ones = target[target == 1]\n",
        "    \n",
        "    features_upsampled = pd.concat([features_zeros] + [features_ones] * repeat)\n",
        "    target_upsampled = pd.concat([target_zeros] + [target_ones] * repeat)\n",
        "    \n",
        "    features_upsampled = shuffle(features_upsampled, random_state=42)\n",
        "    target_upsampled = shuffle(target_upsampled, random_state=42)\n",
        "    \n",
        "    return features_upsampled, target_upsampled\n",
        "\n",
        "    \n",
        "    \n",
        "features_upsampled, target_upsampled = upsample(features_train, target_train, repeat = k)\n",
        "\n",
        "print(features_upsampled.shape)\n",
        "print(target_upsampled.shape)"
      ]
    },
    {
      "cell_type": "markdown",
      "metadata": {
        "id": "J-7IzIdufL0e"
      },
      "source": [
        "Используем юникод для подачи в векторизатор."
      ]
    },
    {
      "cell_type": "code",
      "execution_count": null,
      "metadata": {
        "id": "fxEnc1f1fL0e"
      },
      "outputs": [],
      "source": [
        "features_train = features_upsampled.values.astype('U')"
      ]
    },
    {
      "cell_type": "markdown",
      "metadata": {
        "id": "Bj1Q1r68fL0e"
      },
      "source": [
        "Теперь можно создать признаки, с помощью которых наши модели будут обучаться. Для этого переведем тексты реплик в векторный формат. Воспользуемся статистической мерой TF-IDF, которую можно использовать для оценки важности слова в тексте."
      ]
    },
    {
      "cell_type": "markdown",
      "metadata": {
        "id": "fx819Q4TfL0e"
      },
      "source": [
        "Но перед этим удалим слова, которые не несут смысловую нагрузку в тексте - местоимения, междометия, предлоги и т.д. для того, чтобы при создании признаков уменьшить их громозкость."
      ]
    },
    {
      "cell_type": "markdown",
      "metadata": {
        "id": "nEKApcVBfL0e"
      },
      "source": [
        "Создадим счетчик, указав в нем стоп-слова."
      ]
    },
    {
      "cell_type": "code",
      "execution_count": null,
      "metadata": {
        "id": "d5Gj-h-HfL0e"
      },
      "outputs": [],
      "source": [
        "stopwords = set(nltk_stopwords.words('russian'))"
      ]
    },
    {
      "cell_type": "markdown",
      "metadata": {
        "id": "zRz-Xzn3fL0e"
      },
      "source": [
        "Для валидационной и тестовой выборки воспользуемся только функцией transform для объективности."
      ]
    },
    {
      "cell_type": "markdown",
      "metadata": {
        "id": "w-TmLTFSfL0e"
      },
      "source": [
        "Обучим 2 модели:\n",
        "\n",
        "* Logistic Regression\n",
        "* Random Forest Classifer\n",
        "\n",
        "Посмотрим, какая из них справится лучше."
      ]
    },
    {
      "cell_type": "markdown",
      "metadata": {
        "id": "sw_U1OtwfL0f"
      },
      "source": [
        "Для того, чтобы при поиске наилучших параметров модели не происходило утечки данных из валидационной части в тренироввочную, мы используем пайплайн. В пайплайн мы запишем векторизатор и модель."
      ]
    },
    {
      "cell_type": "code",
      "execution_count": null,
      "metadata": {
        "id": "1t0pVjC7fL0f"
      },
      "outputs": [],
      "source": [
        "lr_ppl_clf = Pipeline([\n",
        "    ('tfidf', TfidfVectorizer(stop_words=stopwords)),\n",
        "    ('lr_clf', LogisticRegression(random_state=42, class_weight='balanced'))])\n",
        "\n",
        "svc_ppl_clf = Pipeline([\n",
        "    ('tfidf', TfidfVectorizer(stop_words=stopwords)),\n",
        "    ('svc_clf', SVC(random_state=42, class_weight = 'balanced', kernel = 'linear'))])"
      ]
    },
    {
      "cell_type": "markdown",
      "metadata": {
        "id": "FiXOMvQQfL0f"
      },
      "source": [
        "**Logistic Regression**"
      ]
    },
    {
      "cell_type": "markdown",
      "metadata": {
        "id": "9lZxdhBmfL0f"
      },
      "source": [
        "Начнем обучение на модели Logistic Regression. Воспользуемся GridSearchCV для перебора параметров."
      ]
    },
    {
      "cell_type": "code",
      "execution_count": null,
      "metadata": {
        "id": "8_yhbqilfL0f"
      },
      "outputs": [],
      "source": [
        "parameters = { \n",
        "              'lr_clf__solver':['lbfgs', 'liblinear'],\n",
        "              'lr_clf__class_weight':[None, 'balanced'],\n",
        "              'lr_clf__max_iter':range (4500, 6000, 500)\n",
        "              }"
      ]
    },
    {
      "cell_type": "code",
      "execution_count": null,
      "metadata": {
        "id": "lSmxvPxafL0f"
      },
      "outputs": [],
      "source": [
        "model_gs_lr = GridSearchCV(lr_ppl_clf, parameters, cv=3, scoring='f1', n_jobs=-1)"
      ]
    },
    {
      "cell_type": "code",
      "execution_count": null,
      "metadata": {
        "id": "FZgC3mMPfL0f",
        "outputId": "f612866e-21cc-4661-bd52-c262f02dc406"
      },
      "outputs": [
        {
          "name": "stdout",
          "output_type": "stream",
          "text": [
            "Лучшие параметры логистической регрессии:\n",
            "\n",
            "{'lr_clf__class_weight': None, 'lr_clf__max_iter': 4500, 'lr_clf__solver': 'lbfgs'}\n",
            "\n",
            "\n",
            "Лучший F1 cross score\n",
            "\n",
            "1.0\n",
            "Wall time: 1.75 s\n"
          ]
        }
      ],
      "source": [
        "%%time\n",
        "model_gs_lr.fit(features_train, target_upsampled)\n",
        "print(f'Лучшие параметры логистической регрессии:')\n",
        "print()\n",
        "print(model_gs_lr.best_params_)\n",
        "print()\n",
        "print()\n",
        "print('Лучший F1 cross score')\n",
        "print()      \n",
        "print(model_gs_lr.best_score_)"
      ]
    },
    {
      "cell_type": "markdown",
      "metadata": {
        "id": "ODuDHVcGfL0g"
      },
      "source": [
        "Модель показала 100% значение гармонического среднего между полнотой и точностью."
      ]
    },
    {
      "cell_type": "markdown",
      "metadata": {
        "id": "dfkQ7sEWfL0g"
      },
      "source": [
        "**Support Vector Classifier**"
      ]
    },
    {
      "cell_type": "markdown",
      "metadata": {
        "id": "Cns8dZkhfL0g"
      },
      "source": [
        "Перейдем теперь к модели метода опорных векторов SVC. Также используем GidSearchCV для перебора параметров."
      ]
    },
    {
      "cell_type": "code",
      "execution_count": null,
      "metadata": {
        "id": "9IYX_yiUfL0g"
      },
      "outputs": [],
      "source": [
        "parametr_svc = {\n",
        "    'svc_clf__C': [1, 2]\n",
        "}"
      ]
    },
    {
      "cell_type": "code",
      "execution_count": null,
      "metadata": {
        "id": "jCW0IzMufL0g"
      },
      "outputs": [],
      "source": [
        "model_gs_svc = GridSearchCV(svc_ppl_clf, parametr_svc, cv=3, scoring='f1', n_jobs=-1)"
      ]
    },
    {
      "cell_type": "code",
      "execution_count": null,
      "metadata": {
        "id": "EZzXfEk4fL0g",
        "outputId": "e4cbc29c-0db4-4504-90f3-e0a940a5cbd3"
      },
      "outputs": [
        {
          "name": "stdout",
          "output_type": "stream",
          "text": [
            "Лучшие параметры метода опорных векторов:\n",
            "\n",
            "{'svc_clf__C': 1}\n",
            "\n",
            "\n",
            "Лучший F1 cross score\n",
            "\n",
            "1.0\n",
            "Wall time: 45 ms\n"
          ]
        }
      ],
      "source": [
        "%%time\n",
        "model_gs_svc.fit(features_train, target_upsampled)\n",
        "print(f'Лучшие параметры метода опорных векторов:')\n",
        "print()\n",
        "print(model_gs_svc.best_params_)\n",
        "print()\n",
        "print()\n",
        "print('Лучший F1 cross score')\n",
        "print()      \n",
        "print(model_gs_svc.best_score_)"
      ]
    },
    {
      "cell_type": "markdown",
      "metadata": {
        "id": "EM4deFL6fL0g"
      },
      "source": [
        "Оба метода показали одинаково хороший результат. Воспользуемся Support Vector Classifier для тестирования модели."
      ]
    },
    {
      "cell_type": "code",
      "execution_count": null,
      "metadata": {
        "id": "rm3Lx3SXfL0g"
      },
      "outputs": [],
      "source": [
        "count_tf_idf = TfidfVectorizer(stop_words=stopwords) "
      ]
    },
    {
      "cell_type": "code",
      "execution_count": null,
      "metadata": {
        "id": "J_L2Ng9ofL0h"
      },
      "outputs": [],
      "source": [
        "features_train_tf_idf = count_tf_idf.fit_transform(features_train)"
      ]
    },
    {
      "cell_type": "markdown",
      "metadata": {
        "id": "PvqLCj_qfL0h"
      },
      "source": [
        "Для тестовой выборки воспользуемся только функцией transform для объективности."
      ]
    },
    {
      "cell_type": "code",
      "execution_count": null,
      "metadata": {
        "id": "MGiWKu6qfL0h"
      },
      "outputs": [],
      "source": [
        "features_test_tf_idf = count_tf_idf.transform(features_test.values.astype('U'))"
      ]
    },
    {
      "cell_type": "markdown",
      "metadata": {
        "id": "8MnQgENTfL0h"
      },
      "source": [
        "Посмотрим размерности."
      ]
    },
    {
      "cell_type": "code",
      "execution_count": null,
      "metadata": {
        "id": "5n82ieP1fL0h",
        "outputId": "173c539d-cf73-41f6-ee7b-266508753b67"
      },
      "outputs": [
        {
          "data": {
            "text/plain": [
              "((312, 381), (41, 381))"
            ]
          },
          "execution_count": 91,
          "metadata": {},
          "output_type": "execute_result"
        }
      ],
      "source": [
        "features_train_tf_idf.shape, features_test_tf_idf.shape"
      ]
    },
    {
      "cell_type": "code",
      "execution_count": null,
      "metadata": {
        "id": "fOw9EnIjfL0h"
      },
      "outputs": [],
      "source": [
        "model_svc = SVC(random_state = 42, C=1)"
      ]
    },
    {
      "cell_type": "code",
      "execution_count": null,
      "metadata": {
        "id": "f7J_lU6BfL0h",
        "outputId": "1f8ffa63-981a-492e-fd68-1b5088c6c012"
      },
      "outputs": [
        {
          "data": {
            "text/plain": [
              "SVC(C=1, random_state=42)"
            ]
          },
          "execution_count": 93,
          "metadata": {},
          "output_type": "execute_result"
        }
      ],
      "source": [
        "model_svc.fit(features_train_tf_idf, target_upsampled)"
      ]
    },
    {
      "cell_type": "code",
      "execution_count": null,
      "metadata": {
        "id": "CqB0IfavfL0h"
      },
      "outputs": [],
      "source": [
        "predictions = model_svc.predict(features_test_tf_idf)"
      ]
    },
    {
      "cell_type": "code",
      "execution_count": null,
      "metadata": {
        "id": "aje9sYnLfL0i",
        "outputId": "d5b73234-abb6-4021-ec60-29fdada2410d"
      },
      "outputs": [
        {
          "data": {
            "text/plain": [
              "1.0"
            ]
          },
          "execution_count": 95,
          "metadata": {},
          "output_type": "execute_result"
        }
      ],
      "source": [
        "f1_score(target_test, predictions)"
      ]
    },
    {
      "cell_type": "markdown",
      "metadata": {
        "id": "lim8VSWkfL0i"
      },
      "source": [
        "Результат на тесте также 100%."
      ]
    },
    {
      "cell_type": "markdown",
      "metadata": {
        "id": "-YXyXnOrfL0i"
      },
      "source": [
        " "
      ]
    },
    {
      "cell_type": "markdown",
      "metadata": {
        "id": "jmxFKpwcfL0i"
      },
      "source": [
        " "
      ]
    },
    {
      "cell_type": "markdown",
      "metadata": {
        "id": "B7-MJatifL0i"
      },
      "source": [
        "# Часть 3"
      ]
    },
    {
      "cell_type": "markdown",
      "metadata": {
        "id": "dgZS-HR4fL0i"
      },
      "source": [
        "Еще один тест. Попробуем научить рекуррентную нейронную сеть вести диалог, используя имеющиеся диалоги."
      ]
    },
    {
      "cell_type": "code",
      "execution_count": null,
      "metadata": {
        "id": "naxyFuLBfL0i"
      },
      "outputs": [],
      "source": [
        "dialogs = []\n",
        "\n",
        "for i in data.dlg_id.unique():\n",
        "    dlg = data[data.dlg_id == i]\n",
        "    dialogs.append(dlg)"
      ]
    },
    {
      "cell_type": "code",
      "execution_count": null,
      "metadata": {
        "id": "DzvfihiVfL0i"
      },
      "outputs": [],
      "source": [
        "input_texts = []\n",
        "target_texts = []"
      ]
    },
    {
      "cell_type": "code",
      "execution_count": null,
      "metadata": {
        "id": "53XLWtaqfL0i"
      },
      "outputs": [],
      "source": [
        "for dlg in dialogs:\n",
        "    for i, phrase in enumerate(dlg.text.values):\n",
        "        if i != len(dlg.text.values) - 1:\n",
        "            input_texts.append(phrase)\n",
        "        if i != 0:\n",
        "            target_texts.append(phrase)"
      ]
    },
    {
      "cell_type": "markdown",
      "metadata": {
        "id": "3lT_3zDffL0j"
      },
      "source": [
        "Проверяем чтобы количество фраз и ответов на фразы было одинаковым."
      ]
    },
    {
      "cell_type": "code",
      "execution_count": null,
      "metadata": {
        "id": "nRicwiOMfL0j",
        "outputId": "71a25573-671c-40e3-8798-a3c700b82cff"
      },
      "outputs": [
        {
          "data": {
            "text/plain": [
              "True"
            ]
          },
          "execution_count": 99,
          "metadata": {},
          "output_type": "execute_result"
        }
      ],
      "source": [
        "len(input_texts) == len(target_texts)"
      ]
    },
    {
      "cell_type": "markdown",
      "metadata": {
        "id": "mTInYIFSfL0j"
      },
      "source": [
        "Посмотрим пример, получившихся пар фраз."
      ]
    },
    {
      "cell_type": "code",
      "execution_count": null,
      "metadata": {
        "id": "gttt1zsRfL0j",
        "outputId": "c89d3715-16ce-4edb-a38f-8b4e9bac9633"
      },
      "outputs": [
        {
          "name": "stdout",
          "output_type": "stream",
          "text": [
            "ну вот сейчас секунду тут есть фильтр сейчас\n",
            "да вот где раздел как для админа там вам нужно будет туда зайти и там будет количество пользователей там где активировать\n"
          ]
        }
      ],
      "source": [
        "print(input_texts[135])\n",
        "print(target_texts[135])"
      ]
    },
    {
      "cell_type": "markdown",
      "metadata": {
        "id": "XhWslvbqfL0j"
      },
      "source": [
        "Займемся подготовкой словаря\n",
        "В качестве элемента последовательности будем использовать одно слово\n",
        "Подготовим два словаря (отображения индекса в слово и слова в индекс)"
      ]
    },
    {
      "cell_type": "code",
      "execution_count": null,
      "metadata": {
        "id": "ccbIvjN1fL0j"
      },
      "outputs": [],
      "source": [
        "def prepare_vocab(texts):\n",
        "    vocab = []\n",
        "    for i in texts:\n",
        "        words = i.split()\n",
        "        vocab = vocab + words\n",
        "    vocab.append('<START>')\n",
        "    vocab.append('<END>')\n",
        "    vocab.append(' ')\n",
        "    vocab = set(vocab)\n",
        "    vocab_size = len(vocab)\n",
        "    char2idx = {u:i for i, u in enumerate(vocab)}\n",
        "    idx2char = {v:k for k, v in char2idx.items()}\n",
        "    return vocab_size, char2idx, idx2char"
      ]
    },
    {
      "cell_type": "code",
      "execution_count": null,
      "metadata": {
        "id": "vN_weBZBfL0j"
      },
      "outputs": [],
      "source": [
        "VOCAB_SIZE, char2idx, idx2char = prepare_vocab(input_texts + target_texts)"
      ]
    },
    {
      "cell_type": "markdown",
      "metadata": {
        "id": "RjrCm0cEfL0j"
      },
      "source": [
        "Оценим величину получившегося словаря."
      ]
    },
    {
      "cell_type": "code",
      "execution_count": null,
      "metadata": {
        "id": "dorV0eUDfL0j",
        "outputId": "d3e246d9-1293-4648-f2dc-b55c53c4178f"
      },
      "outputs": [
        {
          "name": "stdout",
          "output_type": "stream",
          "text": [
            "1179\n"
          ]
        }
      ],
      "source": [
        "print(VOCAB_SIZE)"
      ]
    },
    {
      "cell_type": "code",
      "execution_count": null,
      "metadata": {
        "id": "gSr11eGEfL0k"
      },
      "outputs": [],
      "source": [
        "input_texts_as_int = [[char2idx[c] for c in text.split(' ')] for text in input_texts]\n",
        "target_texts_as_int = [[char2idx[c] for c in text.split(' ')] for text in target_texts]\n",
        "\n",
        "encoder_input_seqs = [np.array(text) for text in input_texts_as_int]\n",
        "decoder_input_seqs = []\n",
        "decoder_target_seqs = []\n",
        "for target_text in target_texts_as_int:\n",
        "    decoder_input_seqs.append(np.array([char2idx['<START>']] + target_text))\n",
        "    decoder_target_seqs.append(np.array(target_text + [char2idx['<END>']]))"
      ]
    },
    {
      "cell_type": "code",
      "execution_count": null,
      "metadata": {
        "id": "SSN9Goo6fL0k"
      },
      "outputs": [],
      "source": [
        "max_enc_seq_length = max([len(seq) for seq in encoder_input_seqs])\n",
        "max_dec_seq_length = max([len(seq) for seq in decoder_input_seqs])\n",
        "\n",
        "encoder_input_seqs = tf.keras.preprocessing.sequence.pad_sequences(\n",
        "    encoder_input_seqs,\n",
        "    value=char2idx[' '],\n",
        "    padding='post',\n",
        "    maxlen=max_enc_seq_length\n",
        ")\n",
        "\n",
        "decoder_input_seqs = tf.keras.preprocessing.sequence.pad_sequences(\n",
        "    decoder_input_seqs,\n",
        "    value=char2idx[' '],\n",
        "    padding='post',\n",
        "    maxlen=max_dec_seq_length\n",
        ")\n",
        "\n",
        "decoder_target_seqs = tf.keras.preprocessing.sequence.pad_sequences(\n",
        "    decoder_target_seqs,\n",
        "    value=char2idx[' '],\n",
        "    padding='post',\n",
        "    maxlen=max_dec_seq_length\n",
        ")"
      ]
    },
    {
      "cell_type": "code",
      "execution_count": null,
      "metadata": {
        "id": "8R3_7oa_fL0k"
      },
      "outputs": [],
      "source": [
        "H_SIZE = 256\n",
        "EMB_SIZE = 256\n",
        "\n",
        "class Encoder(tf.keras.Model):\n",
        "    def __init__(self):\n",
        "        super().__init__()\n",
        "        self.embed = tf.keras.layers.Embedding(VOCAB_SIZE, EMB_SIZE)\n",
        "        self.lstm = tf.keras.layers.LSTM(H_SIZE, return_sequences=False, return_state=True)\n",
        "        \n",
        "    def call(self, x):\n",
        "        out = self.embed(x)\n",
        "        _, h, c = self.lstm(out)\n",
        "        state = (h, c)\n",
        "        return state\n",
        "\n",
        "    \n",
        "class Decoder(tf.keras.Model):\n",
        "    def __init__(self):\n",
        "        super().__init__()\n",
        "        self.embed = tf.keras.layers.Embedding(VOCAB_SIZE, EMB_SIZE)\n",
        "        self.lstm = tf.keras.layers.LSTM(H_SIZE, return_sequences=True, return_state=True)\n",
        "        self.fc = tf.keras.layers.Dense(VOCAB_SIZE, activation='softmax')\n",
        "        \n",
        "    def call(self, x, init_state):\n",
        "        out = self.embed(x)\n",
        "        out, h, c = self.lstm(out, initial_state=init_state)\n",
        "        out = self.fc(out)\n",
        "        state = (h, c)\n",
        "        return out, state\n",
        "\n",
        "\n",
        "encoder_model = Encoder()\n",
        "decoder_model = Decoder()\n",
        "\n",
        "encoder_inputs = tf.keras.layers.Input(shape=(None,))\n",
        "decoder_inputs = tf.keras.layers.Input(shape=(None,))\n",
        "\n",
        "enc_state = encoder_model(encoder_inputs)\n",
        "decoder_outputs, _ = decoder_model(decoder_inputs, enc_state)\n",
        "\n",
        "seq2seq = tf.keras.Model([encoder_inputs, decoder_inputs], decoder_outputs)"
      ]
    },
    {
      "cell_type": "code",
      "execution_count": null,
      "metadata": {
        "id": "iWpnSZObfL0k",
        "outputId": "9a546636-c7af-456d-cd81-3cfecb8ca145"
      },
      "outputs": [
        {
          "name": "stdout",
          "output_type": "stream",
          "text": [
            "Epoch 1/40\n",
            "8/8 [==============================] - 10s 1s/step - loss: 0.5469 - accuracy: 0.9242\n",
            "Epoch 2/40\n",
            "8/8 [==============================] - 8s 1s/step - loss: 0.4433 - accuracy: 0.9268\n",
            "Epoch 3/40\n",
            "8/8 [==============================] - 8s 1s/step - loss: 0.4327 - accuracy: 0.9279\n",
            "Epoch 4/40\n",
            "8/8 [==============================] - 8s 1s/step - loss: 0.4274 - accuracy: 0.9284\n",
            "Epoch 5/40\n",
            "8/8 [==============================] - 8s 987ms/step - loss: 0.4227 - accuracy: 0.9288\n",
            "Epoch 6/40\n",
            "8/8 [==============================] - 8s 1s/step - loss: 0.4197 - accuracy: 0.9294\n",
            "Epoch 7/40\n",
            "8/8 [==============================] - 8s 1s/step - loss: 0.4159 - accuracy: 0.9297\n",
            "Epoch 8/40\n",
            "8/8 [==============================] - 8s 1s/step - loss: 0.4118 - accuracy: 0.9299\n",
            "Epoch 9/40\n",
            "8/8 [==============================] - 8s 990ms/step - loss: 0.4077 - accuracy: 0.9304\n",
            "Epoch 10/40\n",
            "8/8 [==============================] - 9s 1s/step - loss: 0.4045 - accuracy: 0.9306\n",
            "Epoch 11/40\n",
            "8/8 [==============================] - 8s 982ms/step - loss: 0.4006 - accuracy: 0.9312\n",
            "Epoch 12/40\n",
            "8/8 [==============================] - 8s 990ms/step - loss: 0.3978 - accuracy: 0.9316\n",
            "Epoch 13/40\n",
            "8/8 [==============================] - 9s 1s/step - loss: 0.3933 - accuracy: 0.9319\n",
            "Epoch 14/40\n",
            "8/8 [==============================] - 9s 1s/step - loss: 0.3911 - accuracy: 0.9320\n",
            "Epoch 15/40\n",
            "8/8 [==============================] - 8s 1s/step - loss: 0.3875 - accuracy: 0.9322\n",
            "Epoch 16/40\n",
            "8/8 [==============================] - 8s 983ms/step - loss: 0.3828 - accuracy: 0.9327\n",
            "Epoch 17/40\n",
            "8/8 [==============================] - 8s 988ms/step - loss: 0.3807 - accuracy: 0.9325\n",
            "Epoch 18/40\n",
            "8/8 [==============================] - 8s 988ms/step - loss: 0.3769 - accuracy: 0.9328\n",
            "Epoch 19/40\n",
            "8/8 [==============================] - 8s 990ms/step - loss: 0.3726 - accuracy: 0.9330\n",
            "Epoch 20/40\n",
            "8/8 [==============================] - 8s 984ms/step - loss: 0.3709 - accuracy: 0.9330\n",
            "Epoch 21/40\n",
            "8/8 [==============================] - 8s 984ms/step - loss: 0.3661 - accuracy: 0.9334\n",
            "Epoch 22/40\n",
            "8/8 [==============================] - 8s 984ms/step - loss: 0.3640 - accuracy: 0.9333\n",
            "Epoch 23/40\n",
            "8/8 [==============================] - 8s 983ms/step - loss: 0.3592 - accuracy: 0.9334\n",
            "Epoch 24/40\n",
            "8/8 [==============================] - 8s 988ms/step - loss: 0.3574 - accuracy: 0.9337\n",
            "Epoch 25/40\n",
            "8/8 [==============================] - 8s 977ms/step - loss: 0.3532 - accuracy: 0.9338\n",
            "Epoch 26/40\n",
            "8/8 [==============================] - 8s 990ms/step - loss: 0.3492 - accuracy: 0.9341\n",
            "Epoch 27/40\n",
            "8/8 [==============================] - 8s 1s/step - loss: 0.3461 - accuracy: 0.9343\n",
            "Epoch 28/40\n",
            "8/8 [==============================] - 8s 1s/step - loss: 0.3431 - accuracy: 0.9345\n",
            "Epoch 29/40\n",
            "8/8 [==============================] - 8s 974ms/step - loss: 0.3388 - accuracy: 0.9347\n",
            "Epoch 30/40\n",
            "8/8 [==============================] - 8s 974ms/step - loss: 0.3375 - accuracy: 0.9347\n",
            "Epoch 31/40\n",
            "8/8 [==============================] - 8s 998ms/step - loss: 0.3324 - accuracy: 0.9353\n",
            "Epoch 32/40\n",
            "8/8 [==============================] - 8s 974ms/step - loss: 0.3292 - accuracy: 0.9357\n",
            "Epoch 33/40\n",
            "8/8 [==============================] - 8s 980ms/step - loss: 0.3266 - accuracy: 0.9360\n",
            "Epoch 34/40\n",
            "8/8 [==============================] - 8s 1s/step - loss: 0.3236 - accuracy: 0.9360\n",
            "Epoch 35/40\n",
            "8/8 [==============================] - 8s 1s/step - loss: 0.3205 - accuracy: 0.9362\n",
            "Epoch 36/40\n",
            "8/8 [==============================] - 8s 998ms/step - loss: 0.3160 - accuracy: 0.9364\n",
            "Epoch 37/40\n",
            "8/8 [==============================] - 8s 987ms/step - loss: 0.3142 - accuracy: 0.9366\n",
            "Epoch 38/40\n",
            "8/8 [==============================] - 8s 992ms/step - loss: 0.3108 - accuracy: 0.9371\n",
            "Epoch 39/40\n",
            "8/8 [==============================] - 9s 1s/step - loss: 0.3071 - accuracy: 0.9375\n",
            "Epoch 40/40\n",
            "8/8 [==============================] - 8s 1s/step - loss: 0.3073 - accuracy: 0.9373\n"
          ]
        },
        {
          "data": {
            "text/plain": [
              "<keras.callbacks.History at 0x1481ccb5e80>"
            ]
          },
          "execution_count": 108,
          "metadata": {},
          "output_type": "execute_result"
        }
      ],
      "source": [
        "BATCH_SIZE = 64\n",
        "EPOCHS = 40\n",
        "\n",
        "loss = tf.losses.SparseCategoricalCrossentropy()\n",
        "seq2seq.compile(optimizer='rmsprop', loss=loss, metrics=['accuracy'])\n",
        "\n",
        "seq2seq.fit([encoder_input_seqs, decoder_input_seqs], decoder_target_seqs, batch_size=BATCH_SIZE, \n",
        "            epochs=EPOCHS)"
      ]
    },
    {
      "cell_type": "code",
      "execution_count": null,
      "metadata": {
        "id": "F_nJbu_6fL0l"
      },
      "outputs": [],
      "source": [
        "def seq2seq_inference(input_seq):\n",
        "    state = encoder_model(input_seq)\n",
        "\n",
        "    target_seq = np.array([[char2idx['<START>']]])\n",
        "\n",
        "    decoded_sentence = ''\n",
        "    while True:\n",
        "        output_tokens, state = decoder_model(target_seq, state)\n",
        "\n",
        "        temperature = 0.25\n",
        "        pred = output_tokens / temperature\n",
        "        pred_c = tf.random.categorical(pred[0, ...], num_samples=1)[-1][0].numpy()\n",
        "        sampled_char = idx2char[pred_c]\n",
        "        \n",
        "        \n",
        "        \n",
        "\n",
        "        sampled_token_index = np.argmax(output_tokens[0, -1, :])\n",
        "\n",
        "\n",
        "        decoded_sentence += sampled_char\n",
        "        decoded_sentence += ' '\n",
        "\n",
        "        if (sampled_char == '<END>' or\n",
        "           len(decoded_sentence) > max_dec_seq_length):\n",
        "            break\n",
        "\n",
        "        target_seq = np.array([[pred_c]])\n",
        "\n",
        "    return decoded_sentence"
      ]
    },
    {
      "cell_type": "code",
      "execution_count": null,
      "metadata": {
        "id": "iYqZuADafL0l",
        "outputId": "912768b9-7980-4818-e630-f31eb33d7ac0"
      },
      "outputs": [
        {
          "name": "stdout",
          "output_type": "stream",
          "text": [
            "-\n",
            "Input sentence: алло\n",
            "Result sentence: тем ираклас развития покупали очистим звонит видит сотрудничество чем отвечает галочки рабочего странно случаю устраивает отлично неделю раздел отработать \n",
            "Target sentence: алло здравствуйте\n",
            "-\n",
            "Input sentence: алло здравствуйте\n",
            "Result sentence: ответ да карточку ряд более начала вещи настройки специалист планируете информацию событий позвоните оплату поможет нет собственно важно движет вопрос \n",
            "Target sentence: добрый день\n",
            "-\n",
            "Input sentence: добрый день\n",
            "Result sentence: сориентировали подскажите пользователя вечера форму сделал вне важно покажите передам севере принимаем сделано пробить перепутала легко вещи чат тоже \n",
            "Target sentence: меня зовут ангелина компания диджитал бизнес звоним вам по поводу продления лицензии а мы с серым у вас скоро срок заканчивается\n",
            "-\n",
            "Input sentence: меня зовут ангелина компания диджитал бизнес звоним вам по поводу продления лицензии а мы с серым у вас скоро срок заканчивается\n",
            "Result sentence: вручную февраля давать 2 обращаться такой странно нашего обратила перейдете интеграция указан достаточно главное серым партнерскому под особенностями \n",
            "Target sentence: ага\n",
            "-\n",
            "Input sentence: ага\n",
            "Result sentence: сейчас меньше любом какие прописано например подскажите того давай консультируем тарифе наши консультацию заканчивается 110 звоним вместо сайт предлагают \n",
            "Target sentence: угу ну возможно вы рассмотрите и другие варианты видите это хорошая практика сравнивать\n",
            "-\n",
            "Input sentence: угу ну возможно вы рассмотрите и другие варианты видите это хорошая практика сравнивать\n",
            "Result sentence: месяцев действий пришли основе телефон почту спрашивают черточка помочь будете 1000 3 он ответу самый сотрудничество сделаем решите админа сделал начале \n",
            "Target sentence: да мы работаем с компанией которая нам подливает поэтому спасибо огромное\n",
            "-\n",
            "Input sentence: да мы работаем с компанией которая нам подливает поэтому спасибо огромное\n",
            "Result sentence: лицензии стереть о можем обсуждать можно незначительная месяцев ваш рассказываете событий любом быть услышали достаточно претензиями даю обращаете \n",
            "Target sentence: как как бы уже до этого момента работаем все устраивает + у нас сопровождение поэтому\n",
            "-\n",
            "Input sentence: как как бы уже до этого момента работаем все устраивает + у нас сопровождение поэтому\n",
            "Result sentence: почты недели несколько подумайте конечную рекомендации партнерскому которой момента связано должны подходило можем покупали предложить понял себя параметров \n",
            "Target sentence: угу а на что вы обращаете внимание при выборе\n",
            "-\n",
            "Input sentence: угу а на что вы обращаете внимание при выборе\n",
            "Result sentence: отправлю работает могу где можем полторы удобно дело понимаю хорошего подходить уделал минут ним 14 принципе также сделок расширенными переведите иные \n",
            "Target sentence: как бы нет\n",
            "-\n",
            "Input sentence: как бы нет\n",
            "Result sentence: расширенными пишите договор время ставили звонят пишет клиентами удивляюсь другие туда коммерческая делаем точно прописан планируете скачали понимаем \n",
            "Target sentence: да на выбор я уже не обращаю внимание я уже дома выбрал\n"
          ]
        }
      ],
      "source": [
        "for seq_index in range(0, 10):\n",
        "    input_seq = encoder_input_seqs[seq_index: seq_index + 1]\n",
        "    decoded_sentence = seq2seq_inference(input_seq)\n",
        "    print('-')\n",
        "    print('Input sentence:', input_texts[seq_index])\n",
        "    print('Result sentence:', decoded_sentence)\n",
        "    print('Target sentence:', target_texts[seq_index])"
      ]
    },
    {
      "cell_type": "markdown",
      "metadata": {
        "id": "3OSrNdaxfL0m"
      },
      "source": [
        "Вот примерно какие выдает фразы нейронная сеть.\n",
        "Разумеется, дальнейшая работа с базой, с варьированием параметра temperature, c параметрами обучения может оказывать благоприятное действие на результат ее работы."
      ]
    },
    {
      "cell_type": "code",
      "execution_count": null,
      "metadata": {
        "id": "FrkE62j5fL0m"
      },
      "outputs": [],
      "source": []
    }
  ],
  "metadata": {
    "kernelspec": {
      "display_name": "Python 3",
      "language": "python",
      "name": "python3"
    },
    "language_info": {
      "codemirror_mode": {
        "name": "ipython",
        "version": 3
      },
      "file_extension": ".py",
      "mimetype": "text/x-python",
      "name": "python",
      "nbconvert_exporter": "python",
      "pygments_lexer": "ipython3",
      "version": "3.8.5"
    },
    "colab": {
      "provenance": [],
      "include_colab_link": true
    }
  },
  "nbformat": 4,
  "nbformat_minor": 0
}